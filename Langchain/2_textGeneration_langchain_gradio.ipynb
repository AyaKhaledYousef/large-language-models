{
  "cells": [
    {
      "cell_type": "code",
      "execution_count": null,
      "metadata": {
        "id": "9MN2RMDvV8Tj"
      },
      "outputs": [],
      "source": [
        "!pip install langchain\n",
        "!pip install gradio"
      ]
    },
    {
      "cell_type": "code",
      "execution_count": 1,
      "metadata": {
        "colab": {
          "base_uri": "https://localhost:8080/"
        },
        "id": "yxZ1wr_vSu75",
        "outputId": "2910c6da-1664-4bfd-c68a-fc953059629b"
      },
      "outputs": [
        {
          "name": "stdout",
          "output_type": "stream",
          "text": [
            "··········\n"
          ]
        }
      ],
      "source": [
        "import os\n",
        "from getpass import getpass\n",
        "HUGGINGFACEHUB_API_TOKEN = getpass()\n",
        "\n",
        "os.environ[\"HUGGINGFACEHUB_API_TOKEN\"]= HUGGINGFACEHUB_API_TOKEN\n"
      ]
    },
    {
      "cell_type": "code",
      "execution_count": 2,
      "metadata": {
        "id": "qAfnffYfVb4e"
      },
      "outputs": [],
      "source": [
        "from langchain import HuggingFaceHub , LLMChain"
      ]
    },
    {
      "cell_type": "code",
      "execution_count": 3,
      "metadata": {
        "colab": {
          "base_uri": "https://localhost:8080/"
        },
        "id": "sB8_Chy45yxT",
        "outputId": "698186f5-c230-4d64-8d2b-91424e39bb03"
      },
      "outputs": [
        {
          "name": "stderr",
          "output_type": "stream",
          "text": [
            "/usr/local/lib/python3.10/dist-packages/langchain_core/_api/deprecation.py:117: LangChainDeprecationWarning: The class `langchain_community.llms.huggingface_hub.HuggingFaceHub` was deprecated in langchain-community 0.0.21 and will be removed in 0.2.0. Use HuggingFaceEndpoint instead.\n",
            "  warn_deprecated(\n"
          ]
        },
        {
          "data": {
            "text/plain": [
              "HuggingFaceHub(client=<InferenceClient(model='mistralai/Mixtral-8x7B-Instruct-v0.1', timeout=None)>, repo_id='mistralai/Mixtral-8x7B-Instruct-v0.1', task='text-generation', model_kwargs={'temprature': 0.6, 'max_length ': 100})"
            ]
          },
          "execution_count": 3,
          "metadata": {},
          "output_type": "execute_result"
        }
      ],
      "source": [
        "llm = HuggingFaceHub(repo_id= 'mistralai/Mixtral-8x7B-Instruct-v0.1',\n",
        "                     model_kwargs= {'temprature':0.6, 'max_length ': 100})\n",
        "llm"
      ]
    },
    {
      "cell_type": "code",
      "execution_count": null,
      "metadata": {
        "id": "e2TlEWvJGyS4"
      },
      "outputs": [],
      "source": []
    },
    {
      "cell_type": "code",
      "execution_count": 12,
      "metadata": {
        "id": "Z_gs8pPQ6wfO"
      },
      "outputs": [],
      "source": [
        "def predict(input):\n",
        "\n",
        "  print(llm(input))\n",
        "  response = llm(input)\n",
        "  return response"
      ]
    },
    {
      "cell_type": "code",
      "execution_count": 15,
      "metadata": {
        "colab": {
          "base_uri": "https://localhost:8080/"
        },
        "id": "QnVyOi1oG9bc",
        "outputId": "ba3416be-61ea-4f6f-dcc7-20d1eb548f9b"
      },
      "outputs": [
        {
          "name": "stdout",
          "output_type": "stream",
          "text": [
            "what is solar ?\n",
            "\n",
            "Solar energy is the energy that comes from the sun. It is a renewable source of energy that can be harnessed using a variety of technologies, such as solar panels, solar water heaters, and solar ovens. Solar energy can be used to generate electricity, heat water, and provide lighting. It is a clean and sustainable source of energy that can help reduce our reliance on fossil fuels and decrease our carbon footprint.\n",
            "\n",
            "There are two main types\n"
          ]
        }
      ],
      "source": [
        "result = predict(\"what is solar ?\")"
      ]
    },
    {
      "cell_type": "code",
      "execution_count": 16,
      "metadata": {
        "colab": {
          "base_uri": "https://localhost:8080/"
        },
        "id": "fHZyF8hAG-61",
        "outputId": "fa9d4ff2-61e8-4d3d-9b2c-60794e828f8e"
      },
      "outputs": [
        {
          "name": "stdout",
          "output_type": "stream",
          "text": [
            "what is solar ?\n",
            "\n",
            "Solar energy is the energy that comes from the sun. It is a renewable source of energy that can be harnessed using a variety of technologies, such as solar panels, solar water heaters, and solar ovens. Solar energy can be used to generate electricity, heat water, and provide lighting. It is a clean and sustainable source of energy that can help reduce our reliance on fossil fuels and decrease our carbon footprint.\n",
            "\n",
            "There are two main types\n"
          ]
        }
      ],
      "source": [
        "for line in result.splitlines():\n",
        "  print (line)"
      ]
    },
    {
      "cell_type": "code",
      "execution_count": null,
      "metadata": {
        "colab": {
          "base_uri": "https://localhost:8080/",
          "height": 610
        },
        "id": "xSQ4LR8_9VDi",
        "outputId": "33a39b7e-b4c0-44f3-9516-ba2159cc2da6"
      },
      "outputs": [
        {
          "name": "stdout",
          "output_type": "stream",
          "text": [
            "Colab notebook detected. This cell will run indefinitely so that you can see errors and logs. To turn off, set debug=False in launch().\n",
            "Running on public URL: https://1981bd4b89aa92e56a.gradio.live\n",
            "\n",
            "This share link expires in 72 hours. For free permanent hosting and GPU upgrades, run `gradio deploy` from Terminal to deploy to Spaces (https://huggingface.co/spaces)\n"
          ]
        },
        {
          "data": {
            "text/html": [
              "<div><iframe src=\"https://1981bd4b89aa92e56a.gradio.live\" width=\"100%\" height=\"500\" allow=\"autoplay; camera; microphone; clipboard-read; clipboard-write;\" frameborder=\"0\" allowfullscreen></iframe></div>"
            ],
            "text/plain": [
              "<IPython.core.display.HTML object>"
            ]
          },
          "metadata": {},
          "output_type": "display_data"
        }
      ],
      "source": [
        "import gradio as gr\n",
        "\n",
        "demo = gr.ChatInterface(fn=predict, title=\"Echo Bot\")\n",
        "demo.launch(share=True,debug = True)\n",
        "\n"
      ]
    },
    {
      "cell_type": "code",
      "execution_count": null,
      "metadata": {
        "id": "suzaCImPG8jE"
      },
      "outputs": [],
      "source": []
    }
  ],
  "metadata": {
    "accelerator": "GPU",
    "colab": {
      "gpuType": "T4",
      "provenance": []
    },
    "kernelspec": {
      "display_name": "Python 3",
      "name": "python3"
    },
    "language_info": {
      "name": "python"
    }
  },
  "nbformat": 4,
  "nbformat_minor": 0
}
