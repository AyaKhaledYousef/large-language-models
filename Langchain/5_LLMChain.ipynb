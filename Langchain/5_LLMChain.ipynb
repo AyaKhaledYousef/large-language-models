{
  "cells": [
    {
      "cell_type": "code",
      "execution_count": null,
      "metadata": {
        "id": "ttVGjnltWOwS"
      },
      "outputs": [],
      "source": [
        "!pip install langchain"
      ]
    },
    {
      "cell_type": "code",
      "execution_count": 2,
      "metadata": {
        "id": "I0HMggmuVqaR"
      },
      "outputs": [],
      "source": [
        "import os\n",
        "from getpass import getpass\n",
        "from langchain import HuggingFaceHub"
      ]
    },
    {
      "cell_type": "code",
      "execution_count": 4,
      "metadata": {
        "id": "pwaX15BPWzM6"
      },
      "outputs": [],
      "source": [
        "HUGGINGFACEHUB_API_TOKEN = getpass()\n",
        "\n",
        "os.environ['HUGGINGFACEHUB_API_TOKEN'] = HUGGINGFACEHUB_API_TOKEN"
      ]
    },
    {
      "cell_type": "code",
      "execution_count": 5,
      "metadata": {
        "colab": {
          "base_uri": "https://localhost:8080/"
        },
        "id": "c_a_m16wW_FN",
        "outputId": "660df46d-717a-4f04-db65-9e93fc82a8e3"
      },
      "outputs": [
        {
          "name": "stderr",
          "output_type": "stream",
          "text": [
            "/usr/local/lib/python3.10/dist-packages/langchain_core/_api/deprecation.py:117: LangChainDeprecationWarning: The class `langchain_community.llms.huggingface_hub.HuggingFaceHub` was deprecated in langchain-community 0.0.21 and will be removed in 0.2.0. Use HuggingFaceEndpoint instead.\n",
            "  warn_deprecated(\n"
          ]
        },
        {
          "data": {
            "text/plain": [
              "HuggingFaceHub(client=<InferenceClient(model='mistralai/Mixtral-8x7B-Instruct-v0.1', timeout=None)>, repo_id='mistralai/Mixtral-8x7B-Instruct-v0.1', task='text-generation')"
            ]
          },
          "execution_count": 5,
          "metadata": {},
          "output_type": "execute_result"
        }
      ],
      "source": [
        "llm = HuggingFaceHub(repo_id = 'mistralai/Mixtral-8x7B-Instruct-v0.1')\n",
        "llm"
      ]
    },
    {
      "cell_type": "code",
      "execution_count": 6,
      "metadata": {
        "colab": {
          "base_uri": "https://localhost:8080/"
        },
        "id": "WpHg9G-tXQFZ",
        "outputId": "69de7b4f-44b2-4f96-89a2-3b66aa490473"
      },
      "outputs": [
        {
          "data": {
            "text/plain": [
              "PromptTemplate(input_variables=['product'], template='What would be a brand be named that sells {product}')"
            ]
          },
          "execution_count": 6,
          "metadata": {},
          "output_type": "execute_result"
        }
      ],
      "source": [
        "from langchain.prompts import PromptTemplate\n",
        "prompt = PromptTemplate(input_variables=['product'],\n",
        "                        template=\"What would be a brand be named that sells {product}\")\n",
        "prompt"
      ]
    },
    {
      "cell_type": "code",
      "execution_count": 7,
      "metadata": {
        "colab": {
          "base_uri": "https://localhost:8080/"
        },
        "id": "IdESjGugbvj_",
        "outputId": "3eea60bc-8de4-4c70-a340-ef753be1ad33"
      },
      "outputs": [
        {
          "data": {
            "text/plain": [
              "LLMChain(prompt=PromptTemplate(input_variables=['product'], template='What would be a brand be named that sells {product}'), llm=HuggingFaceHub(client=<InferenceClient(model='mistralai/Mixtral-8x7B-Instruct-v0.1', timeout=None)>, repo_id='mistralai/Mixtral-8x7B-Instruct-v0.1', task='text-generation'))"
            ]
          },
          "execution_count": 7,
          "metadata": {},
          "output_type": "execute_result"
        }
      ],
      "source": [
        "from langchain.chains import LLMChain\n",
        "Chain = LLMChain(llm =llm , prompt = prompt)\n",
        "Chain"
      ]
    },
    {
      "cell_type": "code",
      "execution_count": 18,
      "metadata": {
        "id": "Lkf874OscMuI"
      },
      "outputs": [],
      "source": [
        "result = Chain.invoke(\"computers\")"
      ]
    },
    {
      "cell_type": "code",
      "execution_count": 19,
      "metadata": {
        "colab": {
          "base_uri": "https://localhost:8080/"
        },
        "id": "dhhset8kceNI",
        "outputId": "ee38d521-e527-4653-b9d1-a1d63a36fe98"
      },
      "outputs": [
        {
          "name": "stdout",
          "output_type": "stream",
          "text": [
            "product:computers\n",
            "text:What would be a brand be named that sells computers and computer accessories?\n",
            "\n",
            "I'm thinking of something like \"ByteBazaar\" or \"TechTreasure\".\n",
            "\n",
            "I'm looking for a name that is catchy, memorable, and easy to spell. It should also convey the idea of a wide variety of computer-related products.\n",
            "\n",
            "Here are some suggestions:\n",
            "\n",
            "1. ByteBazaar\n",
            "2. TechTreasure\n",
            "3. Compucorner\n",
            "4. CyberChest\n"
          ]
        }
      ],
      "source": [
        "for key , value in result.items():\n",
        "  print(f\"{key}:{value}\")"
      ]
    },
    {
      "cell_type": "code",
      "execution_count": null,
      "metadata": {
        "id": "ex5o4TzteYzG"
      },
      "outputs": [],
      "source": []
    }
  ],
  "metadata": {
    "colab": {
      "provenance": []
    },
    "kernelspec": {
      "display_name": "Python 3",
      "name": "python3"
    },
    "language_info": {
      "name": "python"
    }
  },
  "nbformat": 4,
  "nbformat_minor": 0
}
