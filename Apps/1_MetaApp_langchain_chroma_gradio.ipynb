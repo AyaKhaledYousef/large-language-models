{
  "cells": [
    {
      "cell_type": "code",
      "execution_count": null,
      "metadata": {
        "id": "NpU-9DtPUKxY"
      },
      "outputs": [],
      "source": [
        "!pip install pypdf\n",
        "!pip install langchain\n",
        "!pip install langchain-community\n",
        "!pip install -U langchain-text-splitters\n",
        "!pip install unstructured\n",
        "!pip install pdf2image\n",
        "!pip install pdfminer\n",
        "!pip3 uninstall pdfminer.six -y\n",
        "!pip3 install pdfminer.six\n",
        "!pip install pillow-heif\n",
        "!pip install pikepdf\n",
        "!pip install sentence-transformers\n",
        "!pip install chromadb"
      ]
    },
    {
      "cell_type": "code",
      "execution_count": 1,
      "metadata": {
        "colab": {
          "base_uri": "https://localhost:8080/"
        },
        "id": "JwMCyvnzW6mt",
        "outputId": "c1ebd740-3ed1-4f36-ef34-4fb19f5157c3"
      },
      "outputs": [
        {
          "name": "stdout",
          "output_type": "stream",
          "text": [
            "··········\n"
          ]
        }
      ],
      "source": [
        "import os\n",
        "from getpass import getpass\n",
        "HUGGINGFACEHUB_API_TOKEN = getpass()\n",
        "os.environ['HUGGINGFACEHUB_API_TOKEN']= HUGGINGFACEHUB_API_TOKEN"
      ]
    },
    {
      "cell_type": "markdown",
      "metadata": {
        "id": "JQzXk_1OZeGy"
      },
      "source": [
        "# PDF Loader"
      ]
    },
    {
      "cell_type": "code",
      "execution_count": 2,
      "metadata": {
        "colab": {
          "base_uri": "https://localhost:8080/"
        },
        "id": "Dd5fXdfTXB8W",
        "outputId": "29d06b69-dd74-4968-d8d4-7c8c31919f7d"
      },
      "outputs": [
        {
          "name": "stdout",
          "output_type": "stream",
          "text": [
            "Meta Reports Second  Quarter 2023  Results\n",
            "MENLO PARK, Calif. – July 26, 2023  – Meta Platforms, Inc. (Nasdaq: META) today reported financial results for the \n",
            "quarter ended June 30, 2023 .\n",
            "\"We had a good quarter. We continue to see strong engagement across our apps and we have the most exciting roadmap I've \n",
            "seen in a while with Llama 2, Threads, Reels, new AI products in the pipeline, and the launch of Quest 3 this fall,\" said Mark \n",
            "Zuckerberg, Meta founder and CEO.\n",
            "Second Quarter 2023  Financial Highlights\n",
            "Three Months Ended June 30,\n",
            "In millions, except percentages and per share amounts 2023 2022 % Change\n",
            "Revenue $ 31,999 $ 28,822 11%\n",
            "Costs and expenses  22,607  20,464 10%\n",
            "Income from operations $ 9,392 $ 8,358 12%\n",
            "Operating margin  29 %  29 %\n",
            "Provision for income taxes $ 1,505 $ 1,499 —%\n",
            "Effective tax rate  16 %  18 %\n",
            "Net income $ 7,788 $ 6,687 16%\n",
            "Diluted earnings per share (EPS) $ 2.98 $ 2.46 21%\n",
            "Second Quarter 2023  Operational and Other Financial Highlights\n",
            "•Family daily active people (DAP)  – DAP was 3.07 billion  on average for June 2023 , an increase  of 7% year-over-\n",
            "year.\n",
            "•Family monthly active people (MAP) – MAP was 3.88 billion  as of June 30, 2023 , an increase  of 6% year-over-\n",
            "year.\n",
            "•Facebook daily active users (DAUs)  – DAUs were 2.06 billion  on average for June 2023 , an increase  of 5% year-\n",
            "over-year.\n",
            "•Facebook monthly active users (MAUs)  – MAUs were 3.03 billion  as of June 30, 2023 , an increase  of 3% year-\n",
            "over-year.\n",
            "•Ad impressions and price per ad – In the second  quarter of 2023 , ad impressions delivered across our Family of \n",
            "Apps increased  by 34% year-over-year and the average price per ad decreased  by 16% year-over-year.  \n",
            "•Revenue – Revenue was $32.0 billion , an increase of 11% year-over-year, and an increase of 12% year-over-year on \n",
            "a constant currency basis.\n",
            "•Costs and expenses – Total costs and expenses were $22.61 billion , an increase of 10% year-over-year. Th is \n",
            "includes  accrued legal expenses of $1.87 billion  and restructuring charges of $780 million  in the second  quarter of \n",
            "2023 . \n",
            "•Capital expenditures – Capital expenditures, including principal payments on finance leases, were $6.35 billion  for \n",
            "the second  quarter of 2023 . \n",
            "•Share repurchases  – We repurchased $793 million  of our Class A common stock in the second  quarter of 2023 . As \n",
            "of June 30, 2023 , we had $40.91 billion  available and authorized for repurchases.\n",
            "•Cash, cash equivalents, and marketable securities  – Cash, cash equivalents, and marketable securities were \n",
            "$53.45 billion  as of June 30, 2023 . Free cash flow was $10.96 billion  in the second  quarter of 2023 .\n",
            "•Long-term debt  – Long-term debt was $18.38 billion  as of June 30, 2023 .\n",
            "•Headcount – Headcount  was 71,469  as of June 30, 2023 , a decrease  of 14% year-over-year. Approximately half of \n",
            "the employees impacted by the 2023 layoffs are included in our reported headcount as of June 30, 2023 .\n",
            "1\n"
          ]
        }
      ],
      "source": [
        "from langchain_community.document_loaders import PyPDFLoader\n",
        "\n",
        "loader = PyPDFLoader(\"/content/pdfs/meta-earnings-report.pdf\")\n",
        "pages = loader.load_and_split()\n",
        "print(pages[0].page_content)"
      ]
    },
    {
      "cell_type": "markdown",
      "metadata": {
        "id": "MdEevlkyZ8DL"
      },
      "source": [
        "# Store Embedding in ChromaDB"
      ]
    },
    {
      "cell_type": "code",
      "execution_count": 3,
      "metadata": {
        "id": "-G4H5YhHZ5oq"
      },
      "outputs": [],
      "source": [
        "# import\n",
        "from langchain_community.document_loaders import TextLoader\n",
        "from langchain_community.embeddings.sentence_transformer import (\n",
        "    SentenceTransformerEmbeddings,\n",
        ")\n",
        "from langchain_community.vectorstores import Chroma\n",
        "from langchain_text_splitters import CharacterTextSplitter"
      ]
    },
    {
      "cell_type": "code",
      "execution_count": 4,
      "metadata": {
        "colab": {
          "base_uri": "https://localhost:8080/"
        },
        "id": "-hc81D28Z-YD",
        "outputId": "a416f672-6e03-438d-ade6-33b48db5a207"
      },
      "outputs": [
        {
          "name": "stdout",
          "output_type": "stream",
          "text": [
            "12\n"
          ]
        },
        {
          "data": {
            "text/plain": [
              "{'source': '/content/pdfs/meta-earnings-report.pdf', 'page': 6}"
            ]
          },
          "execution_count": 4,
          "metadata": {},
          "output_type": "execute_result"
        }
      ],
      "source": [
        "\n",
        "# split it into chunks\n",
        "text_splitter = CharacterTextSplitter(chunk_size=1000, chunk_overlap=0)\n",
        "docs = text_splitter.split_documents(pages)\n",
        "\n",
        "print(len(docs))\n",
        "docs[7].metadata"
      ]
    },
    {
      "cell_type": "code",
      "execution_count": 5,
      "metadata": {
        "colab": {
          "base_uri": "https://localhost:8080/"
        },
        "id": "ZQsK-a7CaeMZ",
        "outputId": "dd99b8ff-839c-4ac9-f235-1f0bee85a2ec"
      },
      "outputs": [
        {
          "name": "stderr",
          "output_type": "stream",
          "text": [
            "/usr/local/lib/python3.10/dist-packages/huggingface_hub/utils/_token.py:88: UserWarning: \n",
            "The secret `HF_TOKEN` does not exist in your Colab secrets.\n",
            "To authenticate with the Hugging Face Hub, create a token in your settings tab (https://huggingface.co/settings/tokens), set it as secret in your Google Colab and restart your session.\n",
            "You will be able to reuse this secret in all of your notebooks.\n",
            "Please note that authentication is recommended but still optional to access public models or datasets.\n",
            "  warnings.warn(\n"
          ]
        },
        {
          "data": {
            "text/plain": [
              "HuggingFaceEmbeddings(client=SentenceTransformer(\n",
              "  (0): Transformer({'max_seq_length': 256, 'do_lower_case': False}) with Transformer model: BertModel \n",
              "  (1): Pooling({'word_embedding_dimension': 384, 'pooling_mode_cls_token': False, 'pooling_mode_mean_tokens': True, 'pooling_mode_max_tokens': False, 'pooling_mode_mean_sqrt_len_tokens': False, 'pooling_mode_weightedmean_tokens': False, 'pooling_mode_lasttoken': False, 'include_prompt': True})\n",
              "  (2): Normalize()\n",
              "), model_name='all-MiniLM-L6-v2', cache_folder=None, model_kwargs={}, encode_kwargs={}, multi_process=False, show_progress=False)"
            ]
          },
          "execution_count": 5,
          "metadata": {},
          "output_type": "execute_result"
        }
      ],
      "source": [
        "# create the open-source embedding function\n",
        "embedding_function = SentenceTransformerEmbeddings(model_name=\"all-MiniLM-L6-v2\")\n",
        "embedding_function"
      ]
    },
    {
      "cell_type": "code",
      "execution_count": 6,
      "metadata": {
        "colab": {
          "base_uri": "https://localhost:8080/"
        },
        "id": "IzRibLjJajeI",
        "outputId": "c4b2338c-cede-4401-dc93-6a306c548a05"
      },
      "outputs": [
        {
          "name": "stdout",
          "output_type": "stream",
          "text": [
            "Save 12 chunks to /content/chroma/\n"
          ]
        }
      ],
      "source": [
        "# load it into Chroma\n",
        "import shutil\n",
        "\n",
        "CHROMA_PATH = \"/content/chroma/\"\n",
        "if os.path.exists(CHROMA_PATH):\n",
        "  shutil.rmtree(CHROMA_PATH)\n",
        "\n",
        "db = Chroma.from_documents(docs, embedding_function, persist_directory = CHROMA_PATH)\n",
        "db.persist()\n",
        "print(f\"Save {len(docs)} chunks to {CHROMA_PATH}\")\n"
      ]
    },
    {
      "cell_type": "code",
      "execution_count": 7,
      "metadata": {
        "colab": {
          "base_uri": "https://localhost:8080/",
          "height": 139
        },
        "id": "N3o9SMiAhvy_",
        "outputId": "7dea4269-068b-46ba-c1a4-25241e1b5906"
      },
      "outputs": [
        {
          "data": {
            "application/vnd.google.colaboratory.intrinsic+json": {
              "type": "string"
            },
            "text/plain": [
              "'Meta Reports Second  Quarter 2023  Results\\nMENLO PARK, Calif. – July 26, 2023  – Meta Platforms, Inc. (Nasdaq: META) today reported financial results for the \\nquarter ended June 30, 2023 .\\n\"We had a good quarter. We continue to see strong engagement across our apps and we have the most exciting roadmap I\\'ve \\nseen in a while with Llama 2, Threads, Reels, new AI products in the pipeline, and the launch of Quest 3 this fall,\" said Mark \\nZuckerberg, Meta founder and CEO.\\nSecond Quarter 2023  Financial Highlights\\nThree Months Ended June 30,\\nIn millions, except percentages and per share amounts 2023 2022 % Change\\nRevenue $ 31,999 $ 28,822 11%\\nCosts and expenses  22,607  20,464 10%\\nIncome from operations $ 9,392 $ 8,358 12%\\nOperating margin  29 %  29 %\\nProvision for income taxes $ 1,505 $ 1,499 —%\\nEffective tax rate  16 %  18 %\\nNet income $ 7,788 $ 6,687 16%\\nDiluted earnings per share (EPS) $ 2.98 $ 2.46 21%\\nSecond Quarter 2023  Operational and Other Financial Highlights\\n•Family daily active people (DAP)  – DAP was 3.07 billion  on average for June 2023 , an increase  of 7% year-over-\\nyear.\\n•Family monthly active people (MAP) – MAP was 3.88 billion  as of June 30, 2023 , an increase  of 6% year-over-\\nyear.\\n•Facebook daily active users (DAUs)  – DAUs were 2.06 billion  on average for June 2023 , an increase  of 5% year-\\nover-year.\\n•Facebook monthly active users (MAUs)  – MAUs were 3.03 billion  as of June 30, 2023 , an increase  of 3% year-\\nover-year.\\n•Ad impressions and price per ad – In the second  quarter of 2023 , ad impressions delivered across our Family of \\nApps increased  by 34% year-over-year and the average price per ad decreased  by 16% year-over-year.  \\n•Revenue – Revenue was $32.0 billion , an increase of 11% year-over-year, and an increase of 12% year-over-year on \\na constant currency basis.\\n•Costs and expenses – Total costs and expenses were $22.61 billion , an increase of 10% year-over-year. Th is \\nincludes  accrued legal expenses of $1.87 billion  and restructuring charges of $780 million  in the second  quarter of \\n2023 . \\n•Capital expenditures – Capital expenditures, including principal payments on finance leases, were $6.35 billion  for \\nthe second  quarter of 2023 . \\n•Share repurchases  – We repurchased $793 million  of our Class A common stock in the second  quarter of 2023 . As \\nof June 30, 2023 , we had $40.91 billion  available and authorized for repurchases.\\n•Cash, cash equivalents, and marketable securities  – Cash, cash equivalents, and marketable securities were \\n$53.45 billion  as of June 30, 2023 . Free cash flow was $10.96 billion  in the second  quarter of 2023 .\\n•Long-term debt  – Long-term debt was $18.38 billion  as of June 30, 2023 .\\n•Headcount – Headcount  was 71,469  as of June 30, 2023 , a decrease  of 14% year-over-year. Approximately half of \\nthe employees impacted by the 2023 layoffs are included in our reported headcount as of June 30, 2023 .\\n1'"
            ]
          },
          "execution_count": 7,
          "metadata": {},
          "output_type": "execute_result"
        }
      ],
      "source": [
        "# query it\n",
        "query_text = \"What is the Second Quarter 2023 Operational and Other Financial Highlights ? \"\n",
        "result = db.similarity_search(query_text,k=1)\n",
        "result2 = db.similarity_search_with_relevance_scores(query_text,k=1)\n",
        "# print(result2)\n",
        "context_text = \"\\n\\n---\\n\\n\".join([doc.page_content for doc,score in result2])\n",
        "context_text"
      ]
    },
    {
      "cell_type": "markdown",
      "metadata": {
        "id": "0lQNkfvc3zH7"
      },
      "source": [
        "# Prompt Template"
      ]
    },
    {
      "cell_type": "code",
      "execution_count": 8,
      "metadata": {
        "id": "qOXUgpeP9s0H"
      },
      "outputs": [],
      "source": [
        "PROMPT_TEMPLATE = \"\"\"\n",
        "Answer the question based only on the following contex:\n",
        "\n",
        "{context}\n",
        "\n",
        "---\n",
        "\n",
        "Answer the question based on the above context:{query}\n",
        "\"\"\""
      ]
    },
    {
      "cell_type": "code",
      "execution_count": 13,
      "metadata": {
        "id": "-3jmcYYq-KbQ"
      },
      "outputs": [],
      "source": [
        "# from langchain.prompts import ChatPromptTemplate\n",
        "# q = \"What is the Second Quarter 2023 Operational and Other Financial Highlights ? \"\n",
        "\n",
        "# context_text = \"\\n\\n--\\n\\n\".join([doc.page_content for doc,score in result2])\n",
        "# prompt_template = ChatPromptTemplate.from_template(PROMPT_TEMPLATE)\n",
        "# prompt = prompt_template.format(context = context_text ,query = q)\n"
      ]
    },
    {
      "cell_type": "code",
      "execution_count": 19,
      "metadata": {
        "colab": {
          "base_uri": "https://localhost:8080/"
        },
        "id": "JV_slVjLFGre",
        "outputId": "16f76c09-d8e3-4c20-da95-81d08f5b8194"
      },
      "outputs": [
        {
          "data": {
            "text/plain": [
              "PromptTemplate(input_variables=['product'], template='What is the {product}')"
            ]
          },
          "execution_count": 19,
          "metadata": {},
          "output_type": "execute_result"
        }
      ],
      "source": [
        "from langchain.prompts import PromptTemplate\n",
        "prompt = PromptTemplate(input_variables=['product'],\n",
        "                        template=\"What is the {product}\")\n",
        "prompt"
      ]
    },
    {
      "cell_type": "markdown",
      "metadata": {
        "id": "BPfmOoyJbemN"
      },
      "source": [
        "# LLM"
      ]
    },
    {
      "cell_type": "code",
      "execution_count": 30,
      "metadata": {
        "id": "ZfEXYJ7nbdif"
      },
      "outputs": [],
      "source": [
        "from langchain import HuggingFaceHub\n",
        "llm = HuggingFaceHub(repo_id= 'mistralai/Mixtral-8x7B-Instruct-v0.1',\n",
        "                     model_kwargs= {'temprature':0, 'max_length ': 500})\n"
      ]
    },
    {
      "cell_type": "code",
      "execution_count": 31,
      "metadata": {
        "colab": {
          "base_uri": "https://localhost:8080/"
        },
        "id": "D5YSZSvk5jtc",
        "outputId": "ff2d706c-1069-425f-9a32-f0846093f16b"
      },
      "outputs": [
        {
          "data": {
            "text/plain": [
              "LLMChain(prompt=PromptTemplate(input_variables=['product'], template='What is the {product}'), llm=HuggingFaceHub(client=<InferenceClient(model='mistralai/Mixtral-8x7B-Instruct-v0.1', timeout=None)>, repo_id='mistralai/Mixtral-8x7B-Instruct-v0.1', task='text-generation', model_kwargs={'temprature': 0, 'max_length ': 500}))"
            ]
          },
          "execution_count": 31,
          "metadata": {},
          "output_type": "execute_result"
        }
      ],
      "source": [
        "from langchain.chains import LLMChain\n",
        "Chain = LLMChain(llm =llm , prompt = prompt)\n",
        "Chain"
      ]
    },
    {
      "cell_type": "code",
      "execution_count": 33,
      "metadata": {
        "colab": {
          "base_uri": "https://localhost:8080/"
        },
        "id": "HkHGp6xgFSZB",
        "outputId": "9139503a-76fa-4dd4-df18-3bed6e08d589"
      },
      "outputs": [
        {
          "name": "stdout",
          "output_type": "stream",
          "text": [
            "product:Contacts to investors\n",
            "text:What is the Contacts to investors feature?\n",
            "\n",
            "The Contacts to Investors feature allows you to send a message to all of your investors at once. This is a great way to keep your investors informed about your company's progress and to build a stronger relationship with them.\n",
            "\n",
            "How do I use the Contacts to Investors feature?\n",
            "\n",
            "To use the Contacts to Investors feature, follow these steps:\n",
            "\n",
            "1. Log in to your StartEngine account.\n",
            "2. Click on the \"Camp\n"
          ]
        }
      ],
      "source": [
        "result = Chain.invoke(\"Contacts to investors\")\n",
        "for key , value in result.items():\n",
        "  print(f\"{key}:{value}\")"
      ]
    },
    {
      "cell_type": "code",
      "execution_count": null,
      "metadata": {
        "id": "u6VW-w95H60I"
      },
      "outputs": [],
      "source": [
        "sources = [doc.metadata.get(\"source\",None ) for doc , _score in results2]\n",
        "fprmated_response = f\" Response: {response_text}\\nSourses: {sources}\"\n",
        "print(formated_response)"
      ]
    },
    {
      "cell_type": "code",
      "execution_count": 34,
      "metadata": {
        "colab": {
          "base_uri": "https://localhost:8080/"
        },
        "id": "u3idXTLmaoAg",
        "outputId": "64e2163b-1cfe-4380-9e9e-b32d63053ccb"
      },
      "outputs": [
        {
          "name": "stdout",
          "output_type": "stream",
          "text": [
            "What is the Contacts to investors ?\n",
            "\n",
            "Contacts to investors is a list of investors who are interested in investing in your business. This list can include venture capitalists, angel investors, and other types of investors. Having a strong list of contacts to investors can be crucial for securing the funding you need to grow your business.\n",
            "\n",
            "There are a few different ways to build a list of contacts to investors. One way is to attend networking events and conferences where investors are likely to be in attendance. This can be a\n"
          ]
        }
      ],
      "source": [
        "print(llm.invoke(\"What is the Contacts to investors ?\"))"
      ]
    },
    {
      "cell_type": "code",
      "execution_count": 41,
      "metadata": {
        "id": "QGLik00o5lib"
      },
      "outputs": [],
      "source": [
        "def predict(input, history):\n",
        "\n",
        "  print(llm.invoke(input))\n",
        "  response = llm.invoke(input)\n",
        "  return response"
      ]
    },
    {
      "cell_type": "code",
      "execution_count": null,
      "metadata": {
        "id": "-TjNfhkd6OY_"
      },
      "outputs": [],
      "source": [
        "!pip install gradio"
      ]
    },
    {
      "cell_type": "code",
      "execution_count": 44,
      "metadata": {
        "colab": {
          "base_uri": "https://localhost:8080/",
          "height": 975
        },
        "id": "ylVFMSsc6IgG",
        "outputId": "ccf5a363-e4e3-4989-a2ea-7a63d25d8d0b"
      },
      "outputs": [
        {
          "name": "stdout",
          "output_type": "stream",
          "text": [
            "Colab notebook detected. This cell will run indefinitely so that you can see errors and logs. To turn off, set debug=False in launch().\n",
            "Running on public URL: https://3132ca9659f5907ec0.gradio.live\n",
            "\n",
            "This share link expires in 72 hours. For free permanent hosting and GPU upgrades, run `gradio deploy` from Terminal to deploy to Spaces (https://huggingface.co/spaces)\n"
          ]
        },
        {
          "data": {
            "text/html": [
              "<div><iframe src=\"https://3132ca9659f5907ec0.gradio.live\" width=\"100%\" height=\"500\" allow=\"autoplay; camera; microphone; clipboard-read; clipboard-write;\" frameborder=\"0\" allowfullscreen></iframe></div>"
            ],
            "text/plain": [
              "<IPython.core.display.HTML object>"
            ]
          },
          "metadata": {},
          "output_type": "display_data"
        },
        {
          "name": "stdout",
          "output_type": "stream",
          "text": [
            "What is the Segment Results ?\n",
            "\n",
            "Segment Results is a financial statement that shows the financial performance of a company’s individual business segments. It is a required disclosure for publicly traded companies under Generally Accepted Accounting Principles (GAAP) and International Financial Reporting Standards (IFRS).\n",
            "\n",
            "The Segment Results report typically includes the following information for each business segment:\n",
            "\n",
            "1. Revenue: The amount of money earned from the sale of goods or services.\n",
            "2. Cost of Sales:\n",
            "What is the Second Quarter 2023 Financial Highlights?\n",
            "\n",
            "The Second Quarter 2023 Financial Highlights for the company are not yet available as it is not the current reporting period. The most recent financial report available is for the First Quarter 2023, which was released on May 4, 2023. In that report, the company reported revenue of $2.2 billion, an increase of 12% year-over-year, and net income of $257 million, or $\n",
            "What is the Second Quarter 2023 Operational and Other Financial Highlights ?\n",
            "\n",
            "The Second Quarter 2023 Operational and Other Financial Highlights are as follows:\n",
            "\n",
            "- Total revenue of $1.1 billion, up 10% year-over-year\n",
            "- Net income of $101 million, up 11% year-over-year\n",
            "- Diluted earnings per share of $0.32, up 11% year-over-year\n",
            "- Adjusted EBITDA of $3\n",
            "Keyboard interruption in main thread... closing server.\n",
            "Killing tunnel 127.0.0.1:7860 <> https://3132ca9659f5907ec0.gradio.live\n"
          ]
        },
        {
          "data": {
            "text/plain": []
          },
          "execution_count": 44,
          "metadata": {},
          "output_type": "execute_result"
        }
      ],
      "source": [
        "import gradio as gr\n",
        "\n",
        "demo = gr.ChatInterface(fn=predict, title=\"Echo Bot\")\n",
        "demo.launch(share=True,debug = True)"
      ]
    },
    {
      "cell_type": "code",
      "execution_count": null,
      "metadata": {
        "id": "WEWHLFix6KkD"
      },
      "outputs": [],
      "source": []
    }
  ],
  "metadata": {
    "colab": {
      "provenance": []
    },
    "kernelspec": {
      "display_name": "Python 3",
      "name": "python3"
    },
    "language_info": {
      "name": "python"
    }
  },
  "nbformat": 4,
  "nbformat_minor": 0
}
