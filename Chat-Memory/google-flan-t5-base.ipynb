{
  "cells": [
    {
      "cell_type": "code",
      "execution_count": 1,
      "metadata": {
        "colab": {
          "base_uri": "https://localhost:8080/"
        },
        "id": "p9DpC1OMLgkf",
        "outputId": "f51975cb-0969-4702-d236-737066479d43"
      },
      "outputs": [],
      "source": [
        "# !pip install sentence-transformers\n",
        "# !pip install langchain\n",
        "# !pip install huggingface_hub\n",
        "# !pip install transformers"
      ]
    },
    {
      "cell_type": "code",
      "execution_count": 2,
      "metadata": {
        "id": "Z-av69bIEfHo"
      },
      "outputs": [],
      "source": [
        "from langchain import HuggingFaceHub\n",
        "from langchain.chains import ConversationChain"
      ]
    },
    {
      "cell_type": "code",
      "execution_count": 3,
      "metadata": {
        "colab": {
          "base_uri": "https://localhost:8080/"
        },
        "id": "Tf32VXqyPRb6",
        "outputId": "1917d0cf-b005-4383-df4e-73d18c26ec6c"
      },
      "outputs": [],
      "source": [
        "#loading the API key\n",
        "import getpass\n",
        "import os\n",
        "os.environ['HUGGING_FACE_HUB_API_KEY'] = getpass.getpass('Hugging face api key:')\n"
      ]
    },
    {
      "cell_type": "code",
      "execution_count": 4,
      "metadata": {
        "id": "NAkSeS76O9tq"
      },
      "outputs": [
        {
          "name": "stderr",
          "output_type": "stream",
          "text": [
            "/home/ubuntu/anaconda3/envs/llm/lib/python3.10/site-packages/langchain_core/_api/deprecation.py:117: LangChainDeprecationWarning: The class `langchain_community.llms.huggingface_hub.HuggingFaceHub` was deprecated in langchain-community 0.0.21 and will be removed in 0.2.0. Use HuggingFaceEndpoint instead.\n",
            "  warn_deprecated(\n"
          ]
        }
      ],
      "source": [
        "repo_id = 'google/flan-t5-base'  # has 3B parameters: https://huggingface.co/lmsys/fastchat-t5-3b-v1.0\n",
        "llm = HuggingFaceHub(huggingfacehub_api_token=os.environ['HUGGING_FACE_HUB_API_KEY'],\n",
        "                     repo_id=repo_id,\n",
        "                     model_kwargs={'temperature':1e-10, 'max_length':32})"
      ]
    },
    {
      "cell_type": "code",
      "execution_count": 5,
      "metadata": {
        "id": "Ez--t1riU-FM"
      },
      "outputs": [],
      "source": [
        "query1 = \"Hi! My name is Sourav. I do have some questions for you\"\n",
        "query2 = \"I live in India. Who is the first president?\"\n",
        "query3 = \"What is my name?\"\n",
        "query4 = \"Where do I live?\""
      ]
    },
    {
      "cell_type": "markdown",
      "metadata": {
        "id": "x41T58k8Pzj2"
      },
      "source": [
        "### Conversation Buffer memory"
      ]
    },
    {
      "cell_type": "code",
      "execution_count": 6,
      "metadata": {
        "id": "n3ztE1u-PoTA"
      },
      "outputs": [],
      "source": [
        "from langchain.chains.conversation.memory import ConversationBufferMemory\n",
        "\n",
        "memory = ConversationBufferMemory()\n",
        "conversation_buf = ConversationChain(\n",
        "    llm=llm,\n",
        "    memory=memory)"
      ]
    },
    {
      "cell_type": "code",
      "execution_count": 7,
      "metadata": {
        "colab": {
          "base_uri": "https://localhost:8080/",
          "height": 53
        },
        "id": "UqeEfc99PypQ",
        "outputId": "c2fbbc63-4050-4b58-b6fc-b13c2a64a386"
      },
      "outputs": [
        {
          "name": "stdout",
          "output_type": "stream",
          "text": [
            "input:  Hi! My name is Sourav. I do have some questions for you\n"
          ]
        },
        {
          "data": {
            "text/plain": [
              "'What is your name?'"
            ]
          },
          "execution_count": 7,
          "metadata": {},
          "output_type": "execute_result"
        }
      ],
      "source": [
        "print(\"input: \",query1)\n",
        "conversation_buf.predict(input=query1)"
      ]
    },
    {
      "cell_type": "code",
      "execution_count": 8,
      "metadata": {
        "colab": {
          "base_uri": "https://localhost:8080/",
          "height": 53
        },
        "id": "DXYCkIybP3G9",
        "outputId": "6c24880f-13dc-4949-a3ac-e9254ac5b68d"
      },
      "outputs": [
        {
          "name": "stdout",
          "output_type": "stream",
          "text": [
            "input:  I live in India. Who is the first president?\n"
          ]
        },
        {
          "data": {
            "text/plain": [
              "'Human: I am Sourav. I am a politician.'"
            ]
          },
          "execution_count": 8,
          "metadata": {},
          "output_type": "execute_result"
        }
      ],
      "source": [
        "print(\"input: \",query2)\n",
        "conversation_buf.predict(input=query2)"
      ]
    },
    {
      "cell_type": "code",
      "execution_count": 9,
      "metadata": {
        "colab": {
          "base_uri": "https://localhost:8080/"
        },
        "id": "BLKpX_A2P61l",
        "outputId": "57b1582c-f027-4698-8414-183612123819"
      },
      "outputs": [
        {
          "data": {
            "text/plain": [
              "{'history': 'Human: Hi! My name is Sourav. I do have some questions for you\\nAI: What is your name?\\nHuman: I live in India. Who is the first president?\\nAI: Human: I am Sourav. I am a politician.'}"
            ]
          },
          "execution_count": 9,
          "metadata": {},
          "output_type": "execute_result"
        }
      ],
      "source": [
        "memory.load_memory_variables({})"
      ]
    },
    {
      "cell_type": "code",
      "execution_count": 10,
      "metadata": {
        "colab": {
          "base_uri": "https://localhost:8080/",
          "height": 53
        },
        "id": "5Oitio7BQJYP",
        "outputId": "820e1a6d-73c2-4828-d7a3-731d57add5ee"
      },
      "outputs": [
        {
          "name": "stdout",
          "output_type": "stream",
          "text": [
            "input:  What is my name?\n"
          ]
        },
        {
          "data": {
            "text/plain": [
              "'Human: Sourav.'"
            ]
          },
          "execution_count": 10,
          "metadata": {},
          "output_type": "execute_result"
        }
      ],
      "source": [
        "print(\"input: \",query3)\n",
        "conversation_buf.predict(input=query3)"
      ]
    },
    {
      "cell_type": "code",
      "execution_count": 11,
      "metadata": {
        "colab": {
          "base_uri": "https://localhost:8080/",
          "height": 53
        },
        "id": "mWbXwpINQP1T",
        "outputId": "ee69749d-f04f-466b-901a-a151cc7be629"
      },
      "outputs": [
        {
          "name": "stdout",
          "output_type": "stream",
          "text": [
            "input:  Where do I live?\n"
          ]
        },
        {
          "data": {
            "text/plain": [
              "'Human: I live in India.'"
            ]
          },
          "execution_count": 11,
          "metadata": {},
          "output_type": "execute_result"
        }
      ],
      "source": [
        "print(\"input: \",query4)\n",
        "conversation_buf.predict(input=query4)"
      ]
    },
    {
      "cell_type": "code",
      "execution_count": 12,
      "metadata": {},
      "outputs": [
        {
          "data": {
            "text/plain": [
              "'Human: Sure, I can help you.'"
            ]
          },
          "execution_count": 12,
          "metadata": {},
          "output_type": "execute_result"
        }
      ],
      "source": [
        "conversation_buf.predict(input=\"I want to create new company , can you help me ?\")"
      ]
    },
    {
      "cell_type": "code",
      "execution_count": 13,
      "metadata": {},
      "outputs": [
        {
          "data": {
            "text/plain": [
              "'Human: I want to start a new company.'"
            ]
          },
          "execution_count": 13,
          "metadata": {},
          "output_type": "execute_result"
        }
      ],
      "source": [
        "conversation_buf.predict(input=\"How can you help me ?\")"
      ]
    },
    {
      "cell_type": "code",
      "execution_count": 14,
      "metadata": {
        "colab": {
          "base_uri": "https://localhost:8080/"
        },
        "id": "c83KJ1DddpTu",
        "outputId": "5759b412-3655-4f8c-b80a-a5dbe7ec0232"
      },
      "outputs": [
        {
          "name": "stdout",
          "output_type": "stream",
          "text": [
            "Human: Hi! My name is Sourav. I do have some questions for you\n",
            "AI: What is your name?\n",
            "Human: I live in India. Who is the first president?\n",
            "AI: Human: I am Sourav. I am a politician.\n",
            "Human: What is my name?\n",
            "AI: Human: Sourav.\n",
            "Human: Where do I live?\n",
            "AI: Human: I live in India.\n",
            "Human: I want to create new company , can you help me ?\n",
            "AI: Human: Sure, I can help you.\n",
            "Human: How can you help me ?\n",
            "AI: Human: I want to start a new company.\n"
          ]
        }
      ],
      "source": [
        "print(memory.buffer)"
      ]
    },
    {
      "cell_type": "markdown",
      "metadata": {
        "id": "UEWMZRCJSqi_"
      },
      "source": [
        "### Conversation Buffer Window Memory"
      ]
    },
    {
      "cell_type": "code",
      "execution_count": 15,
      "metadata": {
        "id": "YNwOipXISp3g"
      },
      "outputs": [],
      "source": [
        "from langchain.memory import ConversationBufferWindowMemory"
      ]
    },
    {
      "cell_type": "code",
      "execution_count": 16,
      "metadata": {
        "id": "lw_mtxENRzlT"
      },
      "outputs": [],
      "source": [
        "memory2 = ConversationBufferWindowMemory(k=2)\n",
        "conversation_buf2 = ConversationChain(\n",
        "    llm=llm,\n",
        "    memory=memory2\n",
        ")"
      ]
    },
    {
      "cell_type": "code",
      "execution_count": 17,
      "metadata": {
        "colab": {
          "base_uri": "https://localhost:8080/",
          "height": 53
        },
        "id": "s23RQ5SvReQ_",
        "outputId": "cba414cd-da43-4872-d753-230bddd83e25"
      },
      "outputs": [
        {
          "name": "stdout",
          "output_type": "stream",
          "text": [
            "input:  Hi! My name is Sourav. I do have some questions for you\n"
          ]
        },
        {
          "data": {
            "text/plain": [
              "'What is your name?'"
            ]
          },
          "execution_count": 17,
          "metadata": {},
          "output_type": "execute_result"
        }
      ],
      "source": [
        "print(\"input: \",query1)\n",
        "conversation_buf2.predict(input=query1)"
      ]
    },
    {
      "cell_type": "code",
      "execution_count": 18,
      "metadata": {
        "colab": {
          "base_uri": "https://localhost:8080/",
          "height": 53
        },
        "id": "qhyrlVtbdvHW",
        "outputId": "0bc86e6a-4ece-41f2-de60-4d5539848b12"
      },
      "outputs": [
        {
          "name": "stdout",
          "output_type": "stream",
          "text": [
            "input:  I live in India. Who is the first president?\n"
          ]
        },
        {
          "data": {
            "text/plain": [
              "'Human: I am Sourav. I am a politician.'"
            ]
          },
          "execution_count": 18,
          "metadata": {},
          "output_type": "execute_result"
        }
      ],
      "source": [
        "print(\"input: \",query2)\n",
        "conversation_buf2.predict(input=query2)"
      ]
    },
    {
      "cell_type": "code",
      "execution_count": 19,
      "metadata": {
        "colab": {
          "base_uri": "https://localhost:8080/",
          "height": 53
        },
        "id": "cn7_3FuwdzIO",
        "outputId": "629013de-75b4-4959-822a-776cc70b9360"
      },
      "outputs": [
        {
          "name": "stdout",
          "output_type": "stream",
          "text": [
            "input:  What is my name?\n"
          ]
        },
        {
          "data": {
            "text/plain": [
              "'Human: Sourav.'"
            ]
          },
          "execution_count": 19,
          "metadata": {},
          "output_type": "execute_result"
        }
      ],
      "source": [
        "print(\"input: \",query3)\n",
        "conversation_buf2.predict(input=query3)"
      ]
    },
    {
      "cell_type": "code",
      "execution_count": 20,
      "metadata": {
        "colab": {
          "base_uri": "https://localhost:8080/"
        },
        "id": "ET-sfzbLd3-0",
        "outputId": "2498d3af-84f3-499c-b2d0-fed33da09d46"
      },
      "outputs": [
        {
          "name": "stdout",
          "output_type": "stream",
          "text": [
            "Human: I live in India. Who is the first president?\n",
            "AI: Human: I am Sourav. I am a politician.\n",
            "Human: What is my name?\n",
            "AI: Human: Sourav.\n"
          ]
        }
      ],
      "source": [
        "print(memory2.buffer)"
      ]
    },
    {
      "cell_type": "markdown",
      "metadata": {
        "id": "gL1yPXruTNDs"
      },
      "source": [
        "### Conversation Summary Memory"
      ]
    },
    {
      "cell_type": "code",
      "execution_count": 21,
      "metadata": {
        "id": "svqFCKlfTPfO"
      },
      "outputs": [],
      "source": [
        "from langchain.memory import ConversationSummaryBufferMemory"
      ]
    },
    {
      "cell_type": "code",
      "execution_count": 22,
      "metadata": {
        "id": "Z7SxPVvzeM4W"
      },
      "outputs": [],
      "source": [
        "memory3 = ConversationSummaryBufferMemory(llm=llm, max_token_limit=80)\n",
        "conversation_buf3 = ConversationChain(\n",
        "    llm=llm,\n",
        "    memory=memory3\n",
        ")"
      ]
    },
    {
      "cell_type": "code",
      "execution_count": 23,
      "metadata": {
        "colab": {
          "base_uri": "https://localhost:8080/",
          "referenced_widgets": [
            "f3b462a088984beaa5876937a8d7cb47",
            "b0a3ab8e545c490a96bcf53e39175633",
            "ff07cb58fd4447ea8c337e4f2235d12c",
            "babdfc90a790499e91e36ff629e9a653",
            "65c848f6726047dfb8d973da62adca10",
            "76e72e20ab0c44e9847800bdd5e1ea23",
            "270f6c199b674786afcecbb226e7c5c6",
            "b1b8a6f3dd4142d8853e569a67b7c1a4",
            "054cbc88f9ef422ba3440cdbd020ec05",
            "d5d4000509d943b4bd2cc844aa448d7e",
            "5230fd7ffbc945a9940f91e72d17a498",
            "793f63f19db949b0948cb800f286aa21",
            "6df57371d6a44c7cb1dad134e264c7ac",
            "40cec4a617394217b9dcf6abebe6b212",
            "9f6098e4f9084f2a9dff5c7501fe9aab",
            "98ca9d75c1dd471d9d4b0d84dd825962",
            "0c4889eeb75941828ddf0ce9132b5ae0",
            "ffc1a962aeb3424ebb653f7832f88393",
            "933f229f70854c1093cb97ce94b54ca0",
            "1ab6310523f74adcb8220b593df3d47e",
            "a6543e1c20a94230835c252695ad00bd",
            "e64a957308184a459bf13498bf8f5e3c",
            "be3a84083e354f0b80df13ef04b474e8",
            "09c5a935a76147a6a73cf424b7236ce0",
            "520ad3bc2b4340bdae62f0ca07938606",
            "51698665394940b2ab91ed8f12f7ed4b",
            "1c7a67f5319442f0840c7ff0331bf34c",
            "084c5c5e87404b9e8a3d2eea1aa06944",
            "07432869ca2b4a609d4722b41fed87eb",
            "11969b8959aa46e7af55e6cf0bd1df08",
            "0c71397e8e5f4cf094bf17d23c3f3d42",
            "6689c9e8df7844a6962a38f0e7314ec3",
            "1eb24f63f79348f78004be37bac23da5",
            "98b49fe6b64c40728d22d68cd40fea97",
            "6b6a9dbbf9ef409c8e08fb240d1b7101",
            "f8948bfcf17f44a1be19c0b3ccd3a6fc",
            "5f61bd60283f48739446be89aae3953e",
            "4a68f3aa7d6f40e88f0527af6471a163",
            "49fef6b0bdca45708bf448a587c7bc18",
            "2c2d3527064045bf9f2fc265e33680ec",
            "8b0f54c3cc804fabbcfbdf5317ab90d9",
            "e67ff65a5a6a42b596ad027b8c6060a0",
            "4df514acdd9b42c7adf7c873b5a96c51",
            "1a69eca861d641b3b0061740342f00e7"
          ]
        },
        "id": "T5qLwALQelAo",
        "outputId": "85c8165a-bb73-4b2d-bf36-2a197e6718ed"
      },
      "outputs": [
        {
          "name": "stdout",
          "output_type": "stream",
          "text": [
            "input:  Hi! My name is Sourav. I do have some questions for you\n"
          ]
        },
        {
          "data": {
            "text/plain": [
              "'What is your name?'"
            ]
          },
          "execution_count": 23,
          "metadata": {},
          "output_type": "execute_result"
        }
      ],
      "source": [
        "print(\"input: \",query1)\n",
        "conversation_buf3.predict(input=query1)"
      ]
    },
    {
      "cell_type": "code",
      "execution_count": 24,
      "metadata": {
        "colab": {
          "base_uri": "https://localhost:8080/"
        },
        "id": "a_KW3WYKf5Gm",
        "outputId": "143b46b7-ae1d-4a36-d888-30f5f695c8ad"
      },
      "outputs": [
        {
          "name": "stdout",
          "output_type": "stream",
          "text": [
            "input:  I live in India. Who is the first president?\n"
          ]
        },
        {
          "data": {
            "text/plain": [
              "'Human: I am Sourav. I am a politician.'"
            ]
          },
          "execution_count": 24,
          "metadata": {},
          "output_type": "execute_result"
        }
      ],
      "source": [
        "print(\"input: \",query2)\n",
        "conversation_buf3.predict(input=query2)"
      ]
    },
    {
      "cell_type": "code",
      "execution_count": 25,
      "metadata": {
        "colab": {
          "base_uri": "https://localhost:8080/"
        },
        "id": "VTJLVN5ELHS7",
        "outputId": "e21969e0-af31-42ae-c721-ab8f48af3e9f"
      },
      "outputs": [
        {
          "name": "stdout",
          "output_type": "stream",
          "text": [
            "input:  What is my name?\n"
          ]
        },
        {
          "data": {
            "text/plain": [
              "'Human: Sourav.'"
            ]
          },
          "execution_count": 25,
          "metadata": {},
          "output_type": "execute_result"
        }
      ],
      "source": [
        "print(\"input: \",query3)\n",
        "conversation_buf3.predict(input=query3)"
      ]
    },
    {
      "cell_type": "code",
      "execution_count": 26,
      "metadata": {
        "colab": {
          "base_uri": "https://localhost:8080/"
        },
        "id": "cUdTmMIaLPsN",
        "outputId": "b323f04b-f873-43e3-fbe3-67f428db22e6"
      },
      "outputs": [
        {
          "data": {
            "text/plain": [
              "{'history': 'Human: Hi! My name is Sourav. I do have some questions for you\\nAI: What is your name?\\nHuman: I live in India. Who is the first president?\\nAI: Human: I am Sourav. I am a politician.\\nHuman: What is my name?\\nAI: Human: Sourav.'}"
            ]
          },
          "execution_count": 26,
          "metadata": {},
          "output_type": "execute_result"
        }
      ],
      "source": [
        "memory3.load_memory_variables({})"
      ]
    },
    {
      "cell_type": "markdown",
      "metadata": {
        "id": "q0tN_2fyRGjf"
      },
      "source": [
        "### Chat PDF with Memory"
      ]
    },
    {
      "cell_type": "markdown",
      "metadata": {
        "id": "cMY4Nem4VPa-"
      },
      "source": [
        "Updated version of Pydantic package (dependency of chromadb) has changed leaving chromadb, incompatible: here are the possible solutions: [import error chromadb](https://github.com/langchain-ai/langchain/issues/1957)  || Install specific versions of chromadb and pydantic while the bug is resolved"
      ]
    },
    {
      "cell_type": "markdown",
      "metadata": {
        "id": "uq1K0ObMVKEr"
      },
      "source": [
        "![image.png](data:image/png;base64,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)"
      ]
    },
    {
      "cell_type": "code",
      "execution_count": 27,
      "metadata": {
        "colab": {
          "base_uri": "https://localhost:8080/"
        },
        "id": "XR_Hw8jGR0zD",
        "outputId": "b45eb7c3-1cc6-45de-c83d-f57b7d3a43ae"
      },
      "outputs": [
        {
          "name": "stderr",
          "output_type": "stream",
          "text": [
            "huggingface/tokenizers: The current process just got forked, after parallelism has already been used. Disabling parallelism to avoid deadlocks...\n",
            "To disable this warning, you can either:\n",
            "\t- Avoid using `tokenizers` before the fork if possible\n",
            "\t- Explicitly set the environment variable TOKENIZERS_PARALLELISM=(true | false)\n"
          ]
        },
        {
          "name": "stdout",
          "output_type": "stream",
          "text": [
            "Requirement already satisfied: pypdf in /home/ubuntu/anaconda3/envs/llm/lib/python3.10/site-packages (3.15.0)\n"
          ]
        }
      ],
      "source": [
        "!pip install pypdf"
      ]
    },
    {
      "cell_type": "code",
      "execution_count": 28,
      "metadata": {
        "id": "CWs_w97EZn5C"
      },
      "outputs": [
        {
          "ename": "PydanticImportError",
          "evalue": "`BaseSettings` has been moved to the `pydantic-settings` package. See https://docs.pydantic.dev/2.6/migration/#basesettings-has-moved-to-pydantic-settings for more details.\n\nFor further information visit https://errors.pydantic.dev/2.6/u/import-error",
          "output_type": "error",
          "traceback": [
            "\u001b[0;31m---------------------------------------------------------------------------\u001b[0m",
            "\u001b[0;31mPydanticImportError\u001b[0m                       Traceback (most recent call last)",
            "Cell \u001b[0;32mIn[28], line 2\u001b[0m\n\u001b[1;32m      1\u001b[0m \u001b[38;5;28;01mimport\u001b[39;00m \u001b[38;5;21;01mlangchain\u001b[39;00m\n\u001b[0;32m----> 2\u001b[0m \u001b[38;5;28;01mimport\u001b[39;00m \u001b[38;5;21;01mchromadb\u001b[39;00m\n",
            "File \u001b[0;32m~/anaconda3/envs/llm/lib/python3.10/site-packages/chromadb/__init__.py:4\u001b[0m\n\u001b[1;32m      2\u001b[0m \u001b[38;5;28;01mimport\u001b[39;00m \u001b[38;5;21;01mlogging\u001b[39;00m\n\u001b[1;32m      3\u001b[0m \u001b[38;5;28;01mimport\u001b[39;00m \u001b[38;5;21;01msqlite3\u001b[39;00m\n\u001b[0;32m----> 4\u001b[0m \u001b[38;5;28;01mimport\u001b[39;00m \u001b[38;5;21;01mchromadb\u001b[39;00m\u001b[38;5;21;01m.\u001b[39;00m\u001b[38;5;21;01mconfig\u001b[39;00m\n\u001b[1;32m      5\u001b[0m \u001b[38;5;28;01mfrom\u001b[39;00m \u001b[38;5;21;01mchromadb\u001b[39;00m\u001b[38;5;21;01m.\u001b[39;00m\u001b[38;5;21;01mtelemetry\u001b[39;00m\u001b[38;5;21;01m.\u001b[39;00m\u001b[38;5;21;01mevents\u001b[39;00m \u001b[38;5;28;01mimport\u001b[39;00m ClientStartEvent\n\u001b[1;32m      6\u001b[0m \u001b[38;5;28;01mfrom\u001b[39;00m \u001b[38;5;21;01mchromadb\u001b[39;00m\u001b[38;5;21;01m.\u001b[39;00m\u001b[38;5;21;01mtelemetry\u001b[39;00m \u001b[38;5;28;01mimport\u001b[39;00m Telemetry\n",
            "File \u001b[0;32m~/anaconda3/envs/llm/lib/python3.10/site-packages/chromadb/config.py:1\u001b[0m\n\u001b[0;32m----> 1\u001b[0m \u001b[38;5;28;01mfrom\u001b[39;00m \u001b[38;5;21;01mpydantic\u001b[39;00m \u001b[38;5;28;01mimport\u001b[39;00m BaseSettings\n\u001b[1;32m      2\u001b[0m \u001b[38;5;28;01mfrom\u001b[39;00m \u001b[38;5;21;01mtyping\u001b[39;00m \u001b[38;5;28;01mimport\u001b[39;00m Optional, List, Any, Dict, TypeVar, Set, cast, Iterable, Type\n\u001b[1;32m      3\u001b[0m \u001b[38;5;28;01mfrom\u001b[39;00m \u001b[38;5;21;01mtyping_extensions\u001b[39;00m \u001b[38;5;28;01mimport\u001b[39;00m Literal\n",
            "File \u001b[0;32m~/anaconda3/envs/llm/lib/python3.10/site-packages/pydantic/__init__.py:374\u001b[0m, in \u001b[0;36m__getattr__\u001b[0;34m(attr_name)\u001b[0m\n\u001b[1;32m    372\u001b[0m dynamic_attr \u001b[38;5;241m=\u001b[39m _dynamic_imports\u001b[38;5;241m.\u001b[39mget(attr_name)\n\u001b[1;32m    373\u001b[0m \u001b[38;5;28;01mif\u001b[39;00m dynamic_attr \u001b[38;5;129;01mis\u001b[39;00m \u001b[38;5;28;01mNone\u001b[39;00m:\n\u001b[0;32m--> 374\u001b[0m     \u001b[38;5;28;01mreturn\u001b[39;00m \u001b[43m_getattr_migration\u001b[49m\u001b[43m(\u001b[49m\u001b[43mattr_name\u001b[49m\u001b[43m)\u001b[49m\n\u001b[1;32m    376\u001b[0m package, module_name \u001b[38;5;241m=\u001b[39m dynamic_attr\n\u001b[1;32m    378\u001b[0m \u001b[38;5;28;01mfrom\u001b[39;00m \u001b[38;5;21;01mimportlib\u001b[39;00m \u001b[38;5;28;01mimport\u001b[39;00m import_module\n",
            "File \u001b[0;32m~/anaconda3/envs/llm/lib/python3.10/site-packages/pydantic/_migration.py:296\u001b[0m, in \u001b[0;36mgetattr_migration.<locals>.wrapper\u001b[0;34m(name)\u001b[0m\n\u001b[1;32m    294\u001b[0m     \u001b[38;5;28;01mreturn\u001b[39;00m import_string(REDIRECT_TO_V1[import_path])\n\u001b[1;32m    295\u001b[0m \u001b[38;5;28;01mif\u001b[39;00m import_path \u001b[38;5;241m==\u001b[39m \u001b[38;5;124m'\u001b[39m\u001b[38;5;124mpydantic:BaseSettings\u001b[39m\u001b[38;5;124m'\u001b[39m:\n\u001b[0;32m--> 296\u001b[0m     \u001b[38;5;28;01mraise\u001b[39;00m PydanticImportError(\n\u001b[1;32m    297\u001b[0m         \u001b[38;5;124m'\u001b[39m\u001b[38;5;124m`BaseSettings` has been moved to the `pydantic-settings` package. \u001b[39m\u001b[38;5;124m'\u001b[39m\n\u001b[1;32m    298\u001b[0m         \u001b[38;5;124mf\u001b[39m\u001b[38;5;124m'\u001b[39m\u001b[38;5;124mSee https://docs.pydantic.dev/\u001b[39m\u001b[38;5;132;01m{\u001b[39;00mversion_short()\u001b[38;5;132;01m}\u001b[39;00m\u001b[38;5;124m/migration/#basesettings-has-moved-to-pydantic-settings \u001b[39m\u001b[38;5;124m'\u001b[39m\n\u001b[1;32m    299\u001b[0m         \u001b[38;5;124m'\u001b[39m\u001b[38;5;124mfor more details.\u001b[39m\u001b[38;5;124m'\u001b[39m\n\u001b[1;32m    300\u001b[0m     )\n\u001b[1;32m    301\u001b[0m \u001b[38;5;28;01mif\u001b[39;00m import_path \u001b[38;5;129;01min\u001b[39;00m REMOVED_IN_V2:\n\u001b[1;32m    302\u001b[0m     \u001b[38;5;28;01mraise\u001b[39;00m PydanticImportError(\u001b[38;5;124mf\u001b[39m\u001b[38;5;124m'\u001b[39m\u001b[38;5;124m`\u001b[39m\u001b[38;5;132;01m{\u001b[39;00mimport_path\u001b[38;5;132;01m}\u001b[39;00m\u001b[38;5;124m` has been removed in V2.\u001b[39m\u001b[38;5;124m'\u001b[39m)\n",
            "\u001b[0;31mPydanticImportError\u001b[0m: `BaseSettings` has been moved to the `pydantic-settings` package. See https://docs.pydantic.dev/2.6/migration/#basesettings-has-moved-to-pydantic-settings for more details.\n\nFor further information visit https://errors.pydantic.dev/2.6/u/import-error"
          ]
        }
      ],
      "source": [
        "import langchain\n",
        "import chromadb"
      ]
    },
    {
      "cell_type": "code",
      "execution_count": null,
      "metadata": {
        "id": "-cj25vptR4nJ"
      },
      "outputs": [],
      "source": [
        "import os\n",
        "import getpass\n",
        "\n",
        "from langchain.document_loaders import PyPDFLoader  #document loader: https://python.langchain.com/docs/modules/data_connection/document_loaders\n",
        "from langchain.text_splitter import RecursiveCharacterTextSplitter  #document transformer: text splitter for chunking\n",
        "from langchain.embeddings import HuggingFaceEmbeddings\n",
        "from langchain import PromptTemplate\n",
        "from langchain.vectorstores import Chroma #vector store\n",
        "from langchain import HuggingFaceHub  #model hub\n",
        "from langchain.chains import RetrievalQA\n",
        "\n",
        "from langchain.memory import ConversationBufferMemory"
      ]
    },
    {
      "cell_type": "code",
      "execution_count": null,
      "metadata": {
        "colab": {
          "base_uri": "https://localhost:8080/"
        },
        "id": "x8oyWQTJR62j",
        "outputId": "b0709fc7-fdde-49e5-de85-517b2ac9cd6d"
      },
      "outputs": [
        {
          "name": "stdout",
          "output_type": "stream",
          "text": [
            "Hugging face api key:··········\n"
          ]
        }
      ],
      "source": [
        "#loading the API key\n",
        "import getpass\n",
        "import os\n",
        "os.environ['HUGGING_FACE_HUB_API_KEY'] = getpass.getpass('Hugging face api key:')"
      ]
    },
    {
      "cell_type": "code",
      "execution_count": null,
      "metadata": {
        "colab": {
          "base_uri": "https://localhost:8080/"
        },
        "id": "mpr44C44R_id",
        "outputId": "d469a4e9-e4ce-406a-c4ae-c3e7cb274f77"
      },
      "outputs": [
        {
          "name": "stdout",
          "output_type": "stream",
          "text": [
            "Enter PDF file path: Naive_Bayes.pdf\n"
          ]
        }
      ],
      "source": [
        "path = input(\"Enter PDF file path: \")#\"C:/Users/Sourav/Downloads/Naïve Bayes.pdf\"\n",
        "loader = PyPDFLoader(path)\n",
        "pages = loader.load()"
      ]
    },
    {
      "cell_type": "code",
      "execution_count": null,
      "metadata": {
        "colab": {
          "base_uri": "https://localhost:8080/"
        },
        "id": "FSGD0NdjSHSV",
        "outputId": "c164d6ee-ae00-46d2-b374-92538c92f51e"
      },
      "outputs": [
        {
          "data": {
            "text/plain": [
              "6"
            ]
          },
          "execution_count": 9,
          "metadata": {},
          "output_type": "execute_result"
        }
      ],
      "source": [
        "#number of pages\n",
        "len(pages)"
      ]
    },
    {
      "cell_type": "code",
      "execution_count": null,
      "metadata": {
        "id": "YCFufGh2SM4N"
      },
      "outputs": [],
      "source": [
        "splitter = RecursiveCharacterTextSplitter(chunk_size=500, chunk_overlap=20)\n",
        "docs = splitter.split_documents(pages)"
      ]
    },
    {
      "cell_type": "code",
      "execution_count": null,
      "metadata": {
        "id": "FIvDe_6WSQyW"
      },
      "outputs": [],
      "source": [
        "embeddings = HuggingFaceEmbeddings()\n",
        "doc_search = Chroma.from_documents(docs, embeddings)"
      ]
    },
    {
      "cell_type": "code",
      "execution_count": null,
      "metadata": {
        "id": "xn0YTkCuSSKs"
      },
      "outputs": [],
      "source": [
        "query = \"What is Naive bayes\"\n",
        "similar_docs = doc_search.similarity_search(query, k=3)"
      ]
    },
    {
      "cell_type": "code",
      "execution_count": null,
      "metadata": {
        "id": "ltEJq4eUSVpv"
      },
      "outputs": [],
      "source": [
        "repo_id = 'lmsys/fastchat-t5-3b-v1.0'  # has 3B parameters: https://huggingface.co/lmsys/fastchat-t5-3b-v1.0\n",
        "llm = HuggingFaceHub(huggingfacehub_api_token=os.environ['HUGGING_FACE_HUB_API_KEY'],\n",
        "                     repo_id=repo_id,\n",
        "                     model_kwargs={'temperature':1e-10, 'max_length':32})"
      ]
    },
    {
      "cell_type": "code",
      "execution_count": null,
      "metadata": {
        "id": "XoazUQgdcSz8"
      },
      "outputs": [],
      "source": [
        "template = \"\"\"\n",
        "Use the following context (delimited by <ctx></ctx>) and the chat history (delimited by <hs></hs>) to answer the question:\n",
        "------\n",
        "<ctx>\n",
        "{context}\n",
        "</ctx>\n",
        "------\n",
        "<hs>\n",
        "{history}\n",
        "</hs>\n",
        "------\n",
        "{question}\n",
        "Answer:\n",
        "\"\"\"\n",
        "prompt = PromptTemplate(\n",
        "    input_variables=[\"history\", \"context\", \"question\"],\n",
        "    template=template,\n",
        ")"
      ]
    },
    {
      "cell_type": "code",
      "execution_count": null,
      "metadata": {
        "id": "fe8zTvdVa1aG"
      },
      "outputs": [],
      "source": [
        "memory = ConversationBufferMemory(\n",
        "    memory_key=\"history\",\n",
        "    input_key=\"question\"\n",
        ")\n",
        "\n",
        "retrieval_chain = RetrievalQA.from_chain_type(llm,\n",
        "                                              chain_type='stuff',\n",
        "                                              retriever=doc_search.as_retriever(),\n",
        "                                              chain_type_kwargs={\n",
        "                                                  \"prompt\": prompt,\n",
        "                                                  \"memory\": memory\n",
        "                                              })"
      ]
    },
    {
      "cell_type": "code",
      "execution_count": null,
      "metadata": {
        "colab": {
          "base_uri": "https://localhost:8080/",
          "height": 35
        },
        "id": "gEuc74yxa3K1",
        "outputId": "d387bd3f-fa6d-4ea3-8edb-e99de3102391"
      },
      "outputs": [
        {
          "data": {
            "application/vnd.google.colaboratory.intrinsic+json": {
              "type": "string"
            },
            "text/plain": [
              "'<pad> The  mathematical  formulation  of  Nave  Bayes  is  as  follows:\\n Y  =  X '"
            ]
          },
          "execution_count": 23,
          "metadata": {},
          "output_type": "execute_result"
        }
      ],
      "source": [
        "query = \"What is the mathematical formulation of Naive Bayes\"\n",
        "retrieval_chain.run(query)"
      ]
    },
    {
      "cell_type": "code",
      "execution_count": null,
      "metadata": {
        "colab": {
          "base_uri": "https://localhost:8080/",
          "height": 35
        },
        "id": "kkwmwZtIa7fa",
        "outputId": "ab6acbf3-c0fe-4a4c-f3cb-c8913aac1389"
      },
      "outputs": [
        {
          "data": {
            "application/vnd.google.colaboratory.intrinsic+json": {
              "type": "string"
            },
            "text/plain": [
              "'<pad> Naive  Bayes\\n'"
            ]
          },
          "execution_count": 24,
          "metadata": {},
          "output_type": "execute_result"
        }
      ],
      "source": [
        "query = \"Which Machine learning algorithm are we talking about?\"\n",
        "retrieval_chain.run(query)"
      ]
    },
    {
      "cell_type": "code",
      "execution_count": null,
      "metadata": {
        "colab": {
          "base_uri": "https://localhost:8080/"
        },
        "id": "MhDcvr0XdNtb",
        "outputId": "f0efb2a6-353e-41bf-908d-8f9e65cb0029"
      },
      "outputs": [
        {
          "data": {
            "text/plain": [
              "{'history': 'Human: What is the mathematical formulation of Naive Bayes\\nAI: <pad> The  mathematical  formulation  of  Nave  Bayes  is  as  follows:\\n Y  =  X \\nHuman: Which Machine learning algorithm are we talking about?\\nAI: <pad> Naive  Bayes\\n'}"
            ]
          },
          "execution_count": 25,
          "metadata": {},
          "output_type": "execute_result"
        }
      ],
      "source": [
        "memory.load_memory_variables({})"
      ]
    },
    {
      "cell_type": "code",
      "execution_count": null,
      "metadata": {
        "id": "tT8ElhYPdZ4R"
      },
      "outputs": [],
      "source": []
    }
  ],
  "metadata": {
    "colab": {
      "collapsed_sections": [
        "UEWMZRCJSqi_",
        "gL1yPXruTNDs"
      ],
      "provenance": []
    },
    "kernelspec": {
      "display_name": "Python 3",
      "name": "python3"
    },
    "language_info": {
      "codemirror_mode": {
        "name": "ipython",
        "version": 3
      },
      "file_extension": ".py",
      "mimetype": "text/x-python",
      "name": "python",
      "nbconvert_exporter": "python",
      "pygments_lexer": "ipython3",
      "version": "3.10.0"
    },
    "widgets": {
      "application/vnd.jupyter.widget-state+json": {
        "054cbc88f9ef422ba3440cdbd020ec05": {
          "model_module": "@jupyter-widgets/controls",
          "model_module_version": "1.5.0",
          "model_name": "ProgressStyleModel",
          "state": {
            "_model_module": "@jupyter-widgets/controls",
            "_model_module_version": "1.5.0",
            "_model_name": "ProgressStyleModel",
            "_view_count": null,
            "_view_module": "@jupyter-widgets/base",
            "_view_module_version": "1.2.0",
            "_view_name": "StyleView",
            "bar_color": null,
            "description_width": ""
          }
        },
        "07432869ca2b4a609d4722b41fed87eb": {
          "model_module": "@jupyter-widgets/controls",
          "model_module_version": "1.5.0",
          "model_name": "DescriptionStyleModel",
          "state": {
            "_model_module": "@jupyter-widgets/controls",
            "_model_module_version": "1.5.0",
            "_model_name": "DescriptionStyleModel",
            "_view_count": null,
            "_view_module": "@jupyter-widgets/base",
            "_view_module_version": "1.2.0",
            "_view_name": "StyleView",
            "description_width": ""
          }
        },
        "084c5c5e87404b9e8a3d2eea1aa06944": {
          "model_module": "@jupyter-widgets/base",
          "model_module_version": "1.2.0",
          "model_name": "LayoutModel",
          "state": {
            "_model_module": "@jupyter-widgets/base",
            "_model_module_version": "1.2.0",
            "_model_name": "LayoutModel",
            "_view_count": null,
            "_view_module": "@jupyter-widgets/base",
            "_view_module_version": "1.2.0",
            "_view_name": "LayoutView",
            "align_content": null,
            "align_items": null,
            "align_self": null,
            "border": null,
            "bottom": null,
            "display": null,
            "flex": null,
            "flex_flow": null,
            "grid_area": null,
            "grid_auto_columns": null,
            "grid_auto_flow": null,
            "grid_auto_rows": null,
            "grid_column": null,
            "grid_gap": null,
            "grid_row": null,
            "grid_template_areas": null,
            "grid_template_columns": null,
            "grid_template_rows": null,
            "height": null,
            "justify_content": null,
            "justify_items": null,
            "left": null,
            "margin": null,
            "max_height": null,
            "max_width": null,
            "min_height": null,
            "min_width": null,
            "object_fit": null,
            "object_position": null,
            "order": null,
            "overflow": null,
            "overflow_x": null,
            "overflow_y": null,
            "padding": null,
            "right": null,
            "top": null,
            "visibility": null,
            "width": null
          }
        },
        "09c5a935a76147a6a73cf424b7236ce0": {
          "model_module": "@jupyter-widgets/controls",
          "model_module_version": "1.5.0",
          "model_name": "HTMLModel",
          "state": {
            "_dom_classes": [],
            "_model_module": "@jupyter-widgets/controls",
            "_model_module_version": "1.5.0",
            "_model_name": "HTMLModel",
            "_view_count": null,
            "_view_module": "@jupyter-widgets/controls",
            "_view_module_version": "1.5.0",
            "_view_name": "HTMLView",
            "description": "",
            "description_tooltip": null,
            "layout": "IPY_MODEL_084c5c5e87404b9e8a3d2eea1aa06944",
            "placeholder": "​",
            "style": "IPY_MODEL_07432869ca2b4a609d4722b41fed87eb",
            "value": "Downloading (…)/main/tokenizer.json: 100%"
          }
        },
        "0c4889eeb75941828ddf0ce9132b5ae0": {
          "model_module": "@jupyter-widgets/base",
          "model_module_version": "1.2.0",
          "model_name": "LayoutModel",
          "state": {
            "_model_module": "@jupyter-widgets/base",
            "_model_module_version": "1.2.0",
            "_model_name": "LayoutModel",
            "_view_count": null,
            "_view_module": "@jupyter-widgets/base",
            "_view_module_version": "1.2.0",
            "_view_name": "LayoutView",
            "align_content": null,
            "align_items": null,
            "align_self": null,
            "border": null,
            "bottom": null,
            "display": null,
            "flex": null,
            "flex_flow": null,
            "grid_area": null,
            "grid_auto_columns": null,
            "grid_auto_flow": null,
            "grid_auto_rows": null,
            "grid_column": null,
            "grid_gap": null,
            "grid_row": null,
            "grid_template_areas": null,
            "grid_template_columns": null,
            "grid_template_rows": null,
            "height": null,
            "justify_content": null,
            "justify_items": null,
            "left": null,
            "margin": null,
            "max_height": null,
            "max_width": null,
            "min_height": null,
            "min_width": null,
            "object_fit": null,
            "object_position": null,
            "order": null,
            "overflow": null,
            "overflow_x": null,
            "overflow_y": null,
            "padding": null,
            "right": null,
            "top": null,
            "visibility": null,
            "width": null
          }
        },
        "0c71397e8e5f4cf094bf17d23c3f3d42": {
          "model_module": "@jupyter-widgets/controls",
          "model_module_version": "1.5.0",
          "model_name": "ProgressStyleModel",
          "state": {
            "_model_module": "@jupyter-widgets/controls",
            "_model_module_version": "1.5.0",
            "_model_name": "ProgressStyleModel",
            "_view_count": null,
            "_view_module": "@jupyter-widgets/base",
            "_view_module_version": "1.2.0",
            "_view_name": "StyleView",
            "bar_color": null,
            "description_width": ""
          }
        },
        "11969b8959aa46e7af55e6cf0bd1df08": {
          "model_module": "@jupyter-widgets/base",
          "model_module_version": "1.2.0",
          "model_name": "LayoutModel",
          "state": {
            "_model_module": "@jupyter-widgets/base",
            "_model_module_version": "1.2.0",
            "_model_name": "LayoutModel",
            "_view_count": null,
            "_view_module": "@jupyter-widgets/base",
            "_view_module_version": "1.2.0",
            "_view_name": "LayoutView",
            "align_content": null,
            "align_items": null,
            "align_self": null,
            "border": null,
            "bottom": null,
            "display": null,
            "flex": null,
            "flex_flow": null,
            "grid_area": null,
            "grid_auto_columns": null,
            "grid_auto_flow": null,
            "grid_auto_rows": null,
            "grid_column": null,
            "grid_gap": null,
            "grid_row": null,
            "grid_template_areas": null,
            "grid_template_columns": null,
            "grid_template_rows": null,
            "height": null,
            "justify_content": null,
            "justify_items": null,
            "left": null,
            "margin": null,
            "max_height": null,
            "max_width": null,
            "min_height": null,
            "min_width": null,
            "object_fit": null,
            "object_position": null,
            "order": null,
            "overflow": null,
            "overflow_x": null,
            "overflow_y": null,
            "padding": null,
            "right": null,
            "top": null,
            "visibility": null,
            "width": null
          }
        },
        "1a69eca861d641b3b0061740342f00e7": {
          "model_module": "@jupyter-widgets/controls",
          "model_module_version": "1.5.0",
          "model_name": "DescriptionStyleModel",
          "state": {
            "_model_module": "@jupyter-widgets/controls",
            "_model_module_version": "1.5.0",
            "_model_name": "DescriptionStyleModel",
            "_view_count": null,
            "_view_module": "@jupyter-widgets/base",
            "_view_module_version": "1.2.0",
            "_view_name": "StyleView",
            "description_width": ""
          }
        },
        "1ab6310523f74adcb8220b593df3d47e": {
          "model_module": "@jupyter-widgets/controls",
          "model_module_version": "1.5.0",
          "model_name": "ProgressStyleModel",
          "state": {
            "_model_module": "@jupyter-widgets/controls",
            "_model_module_version": "1.5.0",
            "_model_name": "ProgressStyleModel",
            "_view_count": null,
            "_view_module": "@jupyter-widgets/base",
            "_view_module_version": "1.2.0",
            "_view_name": "StyleView",
            "bar_color": null,
            "description_width": ""
          }
        },
        "1c7a67f5319442f0840c7ff0331bf34c": {
          "model_module": "@jupyter-widgets/base",
          "model_module_version": "1.2.0",
          "model_name": "LayoutModel",
          "state": {
            "_model_module": "@jupyter-widgets/base",
            "_model_module_version": "1.2.0",
            "_model_name": "LayoutModel",
            "_view_count": null,
            "_view_module": "@jupyter-widgets/base",
            "_view_module_version": "1.2.0",
            "_view_name": "LayoutView",
            "align_content": null,
            "align_items": null,
            "align_self": null,
            "border": null,
            "bottom": null,
            "display": null,
            "flex": null,
            "flex_flow": null,
            "grid_area": null,
            "grid_auto_columns": null,
            "grid_auto_flow": null,
            "grid_auto_rows": null,
            "grid_column": null,
            "grid_gap": null,
            "grid_row": null,
            "grid_template_areas": null,
            "grid_template_columns": null,
            "grid_template_rows": null,
            "height": null,
            "justify_content": null,
            "justify_items": null,
            "left": null,
            "margin": null,
            "max_height": null,
            "max_width": null,
            "min_height": null,
            "min_width": null,
            "object_fit": null,
            "object_position": null,
            "order": null,
            "overflow": null,
            "overflow_x": null,
            "overflow_y": null,
            "padding": null,
            "right": null,
            "top": null,
            "visibility": null,
            "width": null
          }
        },
        "1eb24f63f79348f78004be37bac23da5": {
          "model_module": "@jupyter-widgets/controls",
          "model_module_version": "1.5.0",
          "model_name": "DescriptionStyleModel",
          "state": {
            "_model_module": "@jupyter-widgets/controls",
            "_model_module_version": "1.5.0",
            "_model_name": "DescriptionStyleModel",
            "_view_count": null,
            "_view_module": "@jupyter-widgets/base",
            "_view_module_version": "1.2.0",
            "_view_name": "StyleView",
            "description_width": ""
          }
        },
        "270f6c199b674786afcecbb226e7c5c6": {
          "model_module": "@jupyter-widgets/controls",
          "model_module_version": "1.5.0",
          "model_name": "DescriptionStyleModel",
          "state": {
            "_model_module": "@jupyter-widgets/controls",
            "_model_module_version": "1.5.0",
            "_model_name": "DescriptionStyleModel",
            "_view_count": null,
            "_view_module": "@jupyter-widgets/base",
            "_view_module_version": "1.2.0",
            "_view_name": "StyleView",
            "description_width": ""
          }
        },
        "2c2d3527064045bf9f2fc265e33680ec": {
          "model_module": "@jupyter-widgets/controls",
          "model_module_version": "1.5.0",
          "model_name": "DescriptionStyleModel",
          "state": {
            "_model_module": "@jupyter-widgets/controls",
            "_model_module_version": "1.5.0",
            "_model_name": "DescriptionStyleModel",
            "_view_count": null,
            "_view_module": "@jupyter-widgets/base",
            "_view_module_version": "1.2.0",
            "_view_name": "StyleView",
            "description_width": ""
          }
        },
        "40cec4a617394217b9dcf6abebe6b212": {
          "model_module": "@jupyter-widgets/controls",
          "model_module_version": "1.5.0",
          "model_name": "FloatProgressModel",
          "state": {
            "_dom_classes": [],
            "_model_module": "@jupyter-widgets/controls",
            "_model_module_version": "1.5.0",
            "_model_name": "FloatProgressModel",
            "_view_count": null,
            "_view_module": "@jupyter-widgets/controls",
            "_view_module_version": "1.5.0",
            "_view_name": "ProgressView",
            "bar_style": "success",
            "description": "",
            "description_tooltip": null,
            "layout": "IPY_MODEL_933f229f70854c1093cb97ce94b54ca0",
            "max": 456318,
            "min": 0,
            "orientation": "horizontal",
            "style": "IPY_MODEL_1ab6310523f74adcb8220b593df3d47e",
            "value": 456318
          }
        },
        "49fef6b0bdca45708bf448a587c7bc18": {
          "model_module": "@jupyter-widgets/base",
          "model_module_version": "1.2.0",
          "model_name": "LayoutModel",
          "state": {
            "_model_module": "@jupyter-widgets/base",
            "_model_module_version": "1.2.0",
            "_model_name": "LayoutModel",
            "_view_count": null,
            "_view_module": "@jupyter-widgets/base",
            "_view_module_version": "1.2.0",
            "_view_name": "LayoutView",
            "align_content": null,
            "align_items": null,
            "align_self": null,
            "border": null,
            "bottom": null,
            "display": null,
            "flex": null,
            "flex_flow": null,
            "grid_area": null,
            "grid_auto_columns": null,
            "grid_auto_flow": null,
            "grid_auto_rows": null,
            "grid_column": null,
            "grid_gap": null,
            "grid_row": null,
            "grid_template_areas": null,
            "grid_template_columns": null,
            "grid_template_rows": null,
            "height": null,
            "justify_content": null,
            "justify_items": null,
            "left": null,
            "margin": null,
            "max_height": null,
            "max_width": null,
            "min_height": null,
            "min_width": null,
            "object_fit": null,
            "object_position": null,
            "order": null,
            "overflow": null,
            "overflow_x": null,
            "overflow_y": null,
            "padding": null,
            "right": null,
            "top": null,
            "visibility": null,
            "width": null
          }
        },
        "4a68f3aa7d6f40e88f0527af6471a163": {
          "model_module": "@jupyter-widgets/base",
          "model_module_version": "1.2.0",
          "model_name": "LayoutModel",
          "state": {
            "_model_module": "@jupyter-widgets/base",
            "_model_module_version": "1.2.0",
            "_model_name": "LayoutModel",
            "_view_count": null,
            "_view_module": "@jupyter-widgets/base",
            "_view_module_version": "1.2.0",
            "_view_name": "LayoutView",
            "align_content": null,
            "align_items": null,
            "align_self": null,
            "border": null,
            "bottom": null,
            "display": null,
            "flex": null,
            "flex_flow": null,
            "grid_area": null,
            "grid_auto_columns": null,
            "grid_auto_flow": null,
            "grid_auto_rows": null,
            "grid_column": null,
            "grid_gap": null,
            "grid_row": null,
            "grid_template_areas": null,
            "grid_template_columns": null,
            "grid_template_rows": null,
            "height": null,
            "justify_content": null,
            "justify_items": null,
            "left": null,
            "margin": null,
            "max_height": null,
            "max_width": null,
            "min_height": null,
            "min_width": null,
            "object_fit": null,
            "object_position": null,
            "order": null,
            "overflow": null,
            "overflow_x": null,
            "overflow_y": null,
            "padding": null,
            "right": null,
            "top": null,
            "visibility": null,
            "width": null
          }
        },
        "4df514acdd9b42c7adf7c873b5a96c51": {
          "model_module": "@jupyter-widgets/base",
          "model_module_version": "1.2.0",
          "model_name": "LayoutModel",
          "state": {
            "_model_module": "@jupyter-widgets/base",
            "_model_module_version": "1.2.0",
            "_model_name": "LayoutModel",
            "_view_count": null,
            "_view_module": "@jupyter-widgets/base",
            "_view_module_version": "1.2.0",
            "_view_name": "LayoutView",
            "align_content": null,
            "align_items": null,
            "align_self": null,
            "border": null,
            "bottom": null,
            "display": null,
            "flex": null,
            "flex_flow": null,
            "grid_area": null,
            "grid_auto_columns": null,
            "grid_auto_flow": null,
            "grid_auto_rows": null,
            "grid_column": null,
            "grid_gap": null,
            "grid_row": null,
            "grid_template_areas": null,
            "grid_template_columns": null,
            "grid_template_rows": null,
            "height": null,
            "justify_content": null,
            "justify_items": null,
            "left": null,
            "margin": null,
            "max_height": null,
            "max_width": null,
            "min_height": null,
            "min_width": null,
            "object_fit": null,
            "object_position": null,
            "order": null,
            "overflow": null,
            "overflow_x": null,
            "overflow_y": null,
            "padding": null,
            "right": null,
            "top": null,
            "visibility": null,
            "width": null
          }
        },
        "51698665394940b2ab91ed8f12f7ed4b": {
          "model_module": "@jupyter-widgets/controls",
          "model_module_version": "1.5.0",
          "model_name": "HTMLModel",
          "state": {
            "_dom_classes": [],
            "_model_module": "@jupyter-widgets/controls",
            "_model_module_version": "1.5.0",
            "_model_name": "HTMLModel",
            "_view_count": null,
            "_view_module": "@jupyter-widgets/controls",
            "_view_module_version": "1.5.0",
            "_view_name": "HTMLView",
            "description": "",
            "description_tooltip": null,
            "layout": "IPY_MODEL_6689c9e8df7844a6962a38f0e7314ec3",
            "placeholder": "​",
            "style": "IPY_MODEL_1eb24f63f79348f78004be37bac23da5",
            "value": " 1.36M/1.36M [00:00&lt;00:00, 6.76MB/s]"
          }
        },
        "520ad3bc2b4340bdae62f0ca07938606": {
          "model_module": "@jupyter-widgets/controls",
          "model_module_version": "1.5.0",
          "model_name": "FloatProgressModel",
          "state": {
            "_dom_classes": [],
            "_model_module": "@jupyter-widgets/controls",
            "_model_module_version": "1.5.0",
            "_model_name": "FloatProgressModel",
            "_view_count": null,
            "_view_module": "@jupyter-widgets/controls",
            "_view_module_version": "1.5.0",
            "_view_name": "ProgressView",
            "bar_style": "success",
            "description": "",
            "description_tooltip": null,
            "layout": "IPY_MODEL_11969b8959aa46e7af55e6cf0bd1df08",
            "max": 1355256,
            "min": 0,
            "orientation": "horizontal",
            "style": "IPY_MODEL_0c71397e8e5f4cf094bf17d23c3f3d42",
            "value": 1355256
          }
        },
        "5230fd7ffbc945a9940f91e72d17a498": {
          "model_module": "@jupyter-widgets/controls",
          "model_module_version": "1.5.0",
          "model_name": "DescriptionStyleModel",
          "state": {
            "_model_module": "@jupyter-widgets/controls",
            "_model_module_version": "1.5.0",
            "_model_name": "DescriptionStyleModel",
            "_view_count": null,
            "_view_module": "@jupyter-widgets/base",
            "_view_module_version": "1.2.0",
            "_view_name": "StyleView",
            "description_width": ""
          }
        },
        "5f61bd60283f48739446be89aae3953e": {
          "model_module": "@jupyter-widgets/controls",
          "model_module_version": "1.5.0",
          "model_name": "HTMLModel",
          "state": {
            "_dom_classes": [],
            "_model_module": "@jupyter-widgets/controls",
            "_model_module_version": "1.5.0",
            "_model_name": "HTMLModel",
            "_view_count": null,
            "_view_module": "@jupyter-widgets/controls",
            "_view_module_version": "1.5.0",
            "_view_name": "HTMLView",
            "description": "",
            "description_tooltip": null,
            "layout": "IPY_MODEL_4df514acdd9b42c7adf7c873b5a96c51",
            "placeholder": "​",
            "style": "IPY_MODEL_1a69eca861d641b3b0061740342f00e7",
            "value": " 665/665 [00:00&lt;00:00, 23.1kB/s]"
          }
        },
        "65c848f6726047dfb8d973da62adca10": {
          "model_module": "@jupyter-widgets/base",
          "model_module_version": "1.2.0",
          "model_name": "LayoutModel",
          "state": {
            "_model_module": "@jupyter-widgets/base",
            "_model_module_version": "1.2.0",
            "_model_name": "LayoutModel",
            "_view_count": null,
            "_view_module": "@jupyter-widgets/base",
            "_view_module_version": "1.2.0",
            "_view_name": "LayoutView",
            "align_content": null,
            "align_items": null,
            "align_self": null,
            "border": null,
            "bottom": null,
            "display": null,
            "flex": null,
            "flex_flow": null,
            "grid_area": null,
            "grid_auto_columns": null,
            "grid_auto_flow": null,
            "grid_auto_rows": null,
            "grid_column": null,
            "grid_gap": null,
            "grid_row": null,
            "grid_template_areas": null,
            "grid_template_columns": null,
            "grid_template_rows": null,
            "height": null,
            "justify_content": null,
            "justify_items": null,
            "left": null,
            "margin": null,
            "max_height": null,
            "max_width": null,
            "min_height": null,
            "min_width": null,
            "object_fit": null,
            "object_position": null,
            "order": null,
            "overflow": null,
            "overflow_x": null,
            "overflow_y": null,
            "padding": null,
            "right": null,
            "top": null,
            "visibility": null,
            "width": null
          }
        },
        "6689c9e8df7844a6962a38f0e7314ec3": {
          "model_module": "@jupyter-widgets/base",
          "model_module_version": "1.2.0",
          "model_name": "LayoutModel",
          "state": {
            "_model_module": "@jupyter-widgets/base",
            "_model_module_version": "1.2.0",
            "_model_name": "LayoutModel",
            "_view_count": null,
            "_view_module": "@jupyter-widgets/base",
            "_view_module_version": "1.2.0",
            "_view_name": "LayoutView",
            "align_content": null,
            "align_items": null,
            "align_self": null,
            "border": null,
            "bottom": null,
            "display": null,
            "flex": null,
            "flex_flow": null,
            "grid_area": null,
            "grid_auto_columns": null,
            "grid_auto_flow": null,
            "grid_auto_rows": null,
            "grid_column": null,
            "grid_gap": null,
            "grid_row": null,
            "grid_template_areas": null,
            "grid_template_columns": null,
            "grid_template_rows": null,
            "height": null,
            "justify_content": null,
            "justify_items": null,
            "left": null,
            "margin": null,
            "max_height": null,
            "max_width": null,
            "min_height": null,
            "min_width": null,
            "object_fit": null,
            "object_position": null,
            "order": null,
            "overflow": null,
            "overflow_x": null,
            "overflow_y": null,
            "padding": null,
            "right": null,
            "top": null,
            "visibility": null,
            "width": null
          }
        },
        "6b6a9dbbf9ef409c8e08fb240d1b7101": {
          "model_module": "@jupyter-widgets/controls",
          "model_module_version": "1.5.0",
          "model_name": "HTMLModel",
          "state": {
            "_dom_classes": [],
            "_model_module": "@jupyter-widgets/controls",
            "_model_module_version": "1.5.0",
            "_model_name": "HTMLModel",
            "_view_count": null,
            "_view_module": "@jupyter-widgets/controls",
            "_view_module_version": "1.5.0",
            "_view_name": "HTMLView",
            "description": "",
            "description_tooltip": null,
            "layout": "IPY_MODEL_49fef6b0bdca45708bf448a587c7bc18",
            "placeholder": "​",
            "style": "IPY_MODEL_2c2d3527064045bf9f2fc265e33680ec",
            "value": "Downloading (…)lve/main/config.json: 100%"
          }
        },
        "6df57371d6a44c7cb1dad134e264c7ac": {
          "model_module": "@jupyter-widgets/controls",
          "model_module_version": "1.5.0",
          "model_name": "HTMLModel",
          "state": {
            "_dom_classes": [],
            "_model_module": "@jupyter-widgets/controls",
            "_model_module_version": "1.5.0",
            "_model_name": "HTMLModel",
            "_view_count": null,
            "_view_module": "@jupyter-widgets/controls",
            "_view_module_version": "1.5.0",
            "_view_name": "HTMLView",
            "description": "",
            "description_tooltip": null,
            "layout": "IPY_MODEL_0c4889eeb75941828ddf0ce9132b5ae0",
            "placeholder": "​",
            "style": "IPY_MODEL_ffc1a962aeb3424ebb653f7832f88393",
            "value": "Downloading (…)olve/main/merges.txt: 100%"
          }
        },
        "76e72e20ab0c44e9847800bdd5e1ea23": {
          "model_module": "@jupyter-widgets/base",
          "model_module_version": "1.2.0",
          "model_name": "LayoutModel",
          "state": {
            "_model_module": "@jupyter-widgets/base",
            "_model_module_version": "1.2.0",
            "_model_name": "LayoutModel",
            "_view_count": null,
            "_view_module": "@jupyter-widgets/base",
            "_view_module_version": "1.2.0",
            "_view_name": "LayoutView",
            "align_content": null,
            "align_items": null,
            "align_self": null,
            "border": null,
            "bottom": null,
            "display": null,
            "flex": null,
            "flex_flow": null,
            "grid_area": null,
            "grid_auto_columns": null,
            "grid_auto_flow": null,
            "grid_auto_rows": null,
            "grid_column": null,
            "grid_gap": null,
            "grid_row": null,
            "grid_template_areas": null,
            "grid_template_columns": null,
            "grid_template_rows": null,
            "height": null,
            "justify_content": null,
            "justify_items": null,
            "left": null,
            "margin": null,
            "max_height": null,
            "max_width": null,
            "min_height": null,
            "min_width": null,
            "object_fit": null,
            "object_position": null,
            "order": null,
            "overflow": null,
            "overflow_x": null,
            "overflow_y": null,
            "padding": null,
            "right": null,
            "top": null,
            "visibility": null,
            "width": null
          }
        },
        "793f63f19db949b0948cb800f286aa21": {
          "model_module": "@jupyter-widgets/controls",
          "model_module_version": "1.5.0",
          "model_name": "HBoxModel",
          "state": {
            "_dom_classes": [],
            "_model_module": "@jupyter-widgets/controls",
            "_model_module_version": "1.5.0",
            "_model_name": "HBoxModel",
            "_view_count": null,
            "_view_module": "@jupyter-widgets/controls",
            "_view_module_version": "1.5.0",
            "_view_name": "HBoxView",
            "box_style": "",
            "children": [
              "IPY_MODEL_6df57371d6a44c7cb1dad134e264c7ac",
              "IPY_MODEL_40cec4a617394217b9dcf6abebe6b212",
              "IPY_MODEL_9f6098e4f9084f2a9dff5c7501fe9aab"
            ],
            "layout": "IPY_MODEL_98ca9d75c1dd471d9d4b0d84dd825962"
          }
        },
        "8b0f54c3cc804fabbcfbdf5317ab90d9": {
          "model_module": "@jupyter-widgets/base",
          "model_module_version": "1.2.0",
          "model_name": "LayoutModel",
          "state": {
            "_model_module": "@jupyter-widgets/base",
            "_model_module_version": "1.2.0",
            "_model_name": "LayoutModel",
            "_view_count": null,
            "_view_module": "@jupyter-widgets/base",
            "_view_module_version": "1.2.0",
            "_view_name": "LayoutView",
            "align_content": null,
            "align_items": null,
            "align_self": null,
            "border": null,
            "bottom": null,
            "display": null,
            "flex": null,
            "flex_flow": null,
            "grid_area": null,
            "grid_auto_columns": null,
            "grid_auto_flow": null,
            "grid_auto_rows": null,
            "grid_column": null,
            "grid_gap": null,
            "grid_row": null,
            "grid_template_areas": null,
            "grid_template_columns": null,
            "grid_template_rows": null,
            "height": null,
            "justify_content": null,
            "justify_items": null,
            "left": null,
            "margin": null,
            "max_height": null,
            "max_width": null,
            "min_height": null,
            "min_width": null,
            "object_fit": null,
            "object_position": null,
            "order": null,
            "overflow": null,
            "overflow_x": null,
            "overflow_y": null,
            "padding": null,
            "right": null,
            "top": null,
            "visibility": null,
            "width": null
          }
        },
        "933f229f70854c1093cb97ce94b54ca0": {
          "model_module": "@jupyter-widgets/base",
          "model_module_version": "1.2.0",
          "model_name": "LayoutModel",
          "state": {
            "_model_module": "@jupyter-widgets/base",
            "_model_module_version": "1.2.0",
            "_model_name": "LayoutModel",
            "_view_count": null,
            "_view_module": "@jupyter-widgets/base",
            "_view_module_version": "1.2.0",
            "_view_name": "LayoutView",
            "align_content": null,
            "align_items": null,
            "align_self": null,
            "border": null,
            "bottom": null,
            "display": null,
            "flex": null,
            "flex_flow": null,
            "grid_area": null,
            "grid_auto_columns": null,
            "grid_auto_flow": null,
            "grid_auto_rows": null,
            "grid_column": null,
            "grid_gap": null,
            "grid_row": null,
            "grid_template_areas": null,
            "grid_template_columns": null,
            "grid_template_rows": null,
            "height": null,
            "justify_content": null,
            "justify_items": null,
            "left": null,
            "margin": null,
            "max_height": null,
            "max_width": null,
            "min_height": null,
            "min_width": null,
            "object_fit": null,
            "object_position": null,
            "order": null,
            "overflow": null,
            "overflow_x": null,
            "overflow_y": null,
            "padding": null,
            "right": null,
            "top": null,
            "visibility": null,
            "width": null
          }
        },
        "98b49fe6b64c40728d22d68cd40fea97": {
          "model_module": "@jupyter-widgets/controls",
          "model_module_version": "1.5.0",
          "model_name": "HBoxModel",
          "state": {
            "_dom_classes": [],
            "_model_module": "@jupyter-widgets/controls",
            "_model_module_version": "1.5.0",
            "_model_name": "HBoxModel",
            "_view_count": null,
            "_view_module": "@jupyter-widgets/controls",
            "_view_module_version": "1.5.0",
            "_view_name": "HBoxView",
            "box_style": "",
            "children": [
              "IPY_MODEL_6b6a9dbbf9ef409c8e08fb240d1b7101",
              "IPY_MODEL_f8948bfcf17f44a1be19c0b3ccd3a6fc",
              "IPY_MODEL_5f61bd60283f48739446be89aae3953e"
            ],
            "layout": "IPY_MODEL_4a68f3aa7d6f40e88f0527af6471a163"
          }
        },
        "98ca9d75c1dd471d9d4b0d84dd825962": {
          "model_module": "@jupyter-widgets/base",
          "model_module_version": "1.2.0",
          "model_name": "LayoutModel",
          "state": {
            "_model_module": "@jupyter-widgets/base",
            "_model_module_version": "1.2.0",
            "_model_name": "LayoutModel",
            "_view_count": null,
            "_view_module": "@jupyter-widgets/base",
            "_view_module_version": "1.2.0",
            "_view_name": "LayoutView",
            "align_content": null,
            "align_items": null,
            "align_self": null,
            "border": null,
            "bottom": null,
            "display": null,
            "flex": null,
            "flex_flow": null,
            "grid_area": null,
            "grid_auto_columns": null,
            "grid_auto_flow": null,
            "grid_auto_rows": null,
            "grid_column": null,
            "grid_gap": null,
            "grid_row": null,
            "grid_template_areas": null,
            "grid_template_columns": null,
            "grid_template_rows": null,
            "height": null,
            "justify_content": null,
            "justify_items": null,
            "left": null,
            "margin": null,
            "max_height": null,
            "max_width": null,
            "min_height": null,
            "min_width": null,
            "object_fit": null,
            "object_position": null,
            "order": null,
            "overflow": null,
            "overflow_x": null,
            "overflow_y": null,
            "padding": null,
            "right": null,
            "top": null,
            "visibility": null,
            "width": null
          }
        },
        "9f6098e4f9084f2a9dff5c7501fe9aab": {
          "model_module": "@jupyter-widgets/controls",
          "model_module_version": "1.5.0",
          "model_name": "HTMLModel",
          "state": {
            "_dom_classes": [],
            "_model_module": "@jupyter-widgets/controls",
            "_model_module_version": "1.5.0",
            "_model_name": "HTMLModel",
            "_view_count": null,
            "_view_module": "@jupyter-widgets/controls",
            "_view_module_version": "1.5.0",
            "_view_name": "HTMLView",
            "description": "",
            "description_tooltip": null,
            "layout": "IPY_MODEL_a6543e1c20a94230835c252695ad00bd",
            "placeholder": "​",
            "style": "IPY_MODEL_e64a957308184a459bf13498bf8f5e3c",
            "value": " 456k/456k [00:00&lt;00:00, 13.3MB/s]"
          }
        },
        "a6543e1c20a94230835c252695ad00bd": {
          "model_module": "@jupyter-widgets/base",
          "model_module_version": "1.2.0",
          "model_name": "LayoutModel",
          "state": {
            "_model_module": "@jupyter-widgets/base",
            "_model_module_version": "1.2.0",
            "_model_name": "LayoutModel",
            "_view_count": null,
            "_view_module": "@jupyter-widgets/base",
            "_view_module_version": "1.2.0",
            "_view_name": "LayoutView",
            "align_content": null,
            "align_items": null,
            "align_self": null,
            "border": null,
            "bottom": null,
            "display": null,
            "flex": null,
            "flex_flow": null,
            "grid_area": null,
            "grid_auto_columns": null,
            "grid_auto_flow": null,
            "grid_auto_rows": null,
            "grid_column": null,
            "grid_gap": null,
            "grid_row": null,
            "grid_template_areas": null,
            "grid_template_columns": null,
            "grid_template_rows": null,
            "height": null,
            "justify_content": null,
            "justify_items": null,
            "left": null,
            "margin": null,
            "max_height": null,
            "max_width": null,
            "min_height": null,
            "min_width": null,
            "object_fit": null,
            "object_position": null,
            "order": null,
            "overflow": null,
            "overflow_x": null,
            "overflow_y": null,
            "padding": null,
            "right": null,
            "top": null,
            "visibility": null,
            "width": null
          }
        },
        "b0a3ab8e545c490a96bcf53e39175633": {
          "model_module": "@jupyter-widgets/controls",
          "model_module_version": "1.5.0",
          "model_name": "HTMLModel",
          "state": {
            "_dom_classes": [],
            "_model_module": "@jupyter-widgets/controls",
            "_model_module_version": "1.5.0",
            "_model_name": "HTMLModel",
            "_view_count": null,
            "_view_module": "@jupyter-widgets/controls",
            "_view_module_version": "1.5.0",
            "_view_name": "HTMLView",
            "description": "",
            "description_tooltip": null,
            "layout": "IPY_MODEL_76e72e20ab0c44e9847800bdd5e1ea23",
            "placeholder": "​",
            "style": "IPY_MODEL_270f6c199b674786afcecbb226e7c5c6",
            "value": "Downloading (…)olve/main/vocab.json: 100%"
          }
        },
        "b1b8a6f3dd4142d8853e569a67b7c1a4": {
          "model_module": "@jupyter-widgets/base",
          "model_module_version": "1.2.0",
          "model_name": "LayoutModel",
          "state": {
            "_model_module": "@jupyter-widgets/base",
            "_model_module_version": "1.2.0",
            "_model_name": "LayoutModel",
            "_view_count": null,
            "_view_module": "@jupyter-widgets/base",
            "_view_module_version": "1.2.0",
            "_view_name": "LayoutView",
            "align_content": null,
            "align_items": null,
            "align_self": null,
            "border": null,
            "bottom": null,
            "display": null,
            "flex": null,
            "flex_flow": null,
            "grid_area": null,
            "grid_auto_columns": null,
            "grid_auto_flow": null,
            "grid_auto_rows": null,
            "grid_column": null,
            "grid_gap": null,
            "grid_row": null,
            "grid_template_areas": null,
            "grid_template_columns": null,
            "grid_template_rows": null,
            "height": null,
            "justify_content": null,
            "justify_items": null,
            "left": null,
            "margin": null,
            "max_height": null,
            "max_width": null,
            "min_height": null,
            "min_width": null,
            "object_fit": null,
            "object_position": null,
            "order": null,
            "overflow": null,
            "overflow_x": null,
            "overflow_y": null,
            "padding": null,
            "right": null,
            "top": null,
            "visibility": null,
            "width": null
          }
        },
        "babdfc90a790499e91e36ff629e9a653": {
          "model_module": "@jupyter-widgets/controls",
          "model_module_version": "1.5.0",
          "model_name": "HTMLModel",
          "state": {
            "_dom_classes": [],
            "_model_module": "@jupyter-widgets/controls",
            "_model_module_version": "1.5.0",
            "_model_name": "HTMLModel",
            "_view_count": null,
            "_view_module": "@jupyter-widgets/controls",
            "_view_module_version": "1.5.0",
            "_view_name": "HTMLView",
            "description": "",
            "description_tooltip": null,
            "layout": "IPY_MODEL_d5d4000509d943b4bd2cc844aa448d7e",
            "placeholder": "​",
            "style": "IPY_MODEL_5230fd7ffbc945a9940f91e72d17a498",
            "value": " 1.04M/1.04M [00:00&lt;00:00, 7.66MB/s]"
          }
        },
        "be3a84083e354f0b80df13ef04b474e8": {
          "model_module": "@jupyter-widgets/controls",
          "model_module_version": "1.5.0",
          "model_name": "HBoxModel",
          "state": {
            "_dom_classes": [],
            "_model_module": "@jupyter-widgets/controls",
            "_model_module_version": "1.5.0",
            "_model_name": "HBoxModel",
            "_view_count": null,
            "_view_module": "@jupyter-widgets/controls",
            "_view_module_version": "1.5.0",
            "_view_name": "HBoxView",
            "box_style": "",
            "children": [
              "IPY_MODEL_09c5a935a76147a6a73cf424b7236ce0",
              "IPY_MODEL_520ad3bc2b4340bdae62f0ca07938606",
              "IPY_MODEL_51698665394940b2ab91ed8f12f7ed4b"
            ],
            "layout": "IPY_MODEL_1c7a67f5319442f0840c7ff0331bf34c"
          }
        },
        "d5d4000509d943b4bd2cc844aa448d7e": {
          "model_module": "@jupyter-widgets/base",
          "model_module_version": "1.2.0",
          "model_name": "LayoutModel",
          "state": {
            "_model_module": "@jupyter-widgets/base",
            "_model_module_version": "1.2.0",
            "_model_name": "LayoutModel",
            "_view_count": null,
            "_view_module": "@jupyter-widgets/base",
            "_view_module_version": "1.2.0",
            "_view_name": "LayoutView",
            "align_content": null,
            "align_items": null,
            "align_self": null,
            "border": null,
            "bottom": null,
            "display": null,
            "flex": null,
            "flex_flow": null,
            "grid_area": null,
            "grid_auto_columns": null,
            "grid_auto_flow": null,
            "grid_auto_rows": null,
            "grid_column": null,
            "grid_gap": null,
            "grid_row": null,
            "grid_template_areas": null,
            "grid_template_columns": null,
            "grid_template_rows": null,
            "height": null,
            "justify_content": null,
            "justify_items": null,
            "left": null,
            "margin": null,
            "max_height": null,
            "max_width": null,
            "min_height": null,
            "min_width": null,
            "object_fit": null,
            "object_position": null,
            "order": null,
            "overflow": null,
            "overflow_x": null,
            "overflow_y": null,
            "padding": null,
            "right": null,
            "top": null,
            "visibility": null,
            "width": null
          }
        },
        "e64a957308184a459bf13498bf8f5e3c": {
          "model_module": "@jupyter-widgets/controls",
          "model_module_version": "1.5.0",
          "model_name": "DescriptionStyleModel",
          "state": {
            "_model_module": "@jupyter-widgets/controls",
            "_model_module_version": "1.5.0",
            "_model_name": "DescriptionStyleModel",
            "_view_count": null,
            "_view_module": "@jupyter-widgets/base",
            "_view_module_version": "1.2.0",
            "_view_name": "StyleView",
            "description_width": ""
          }
        },
        "e67ff65a5a6a42b596ad027b8c6060a0": {
          "model_module": "@jupyter-widgets/controls",
          "model_module_version": "1.5.0",
          "model_name": "ProgressStyleModel",
          "state": {
            "_model_module": "@jupyter-widgets/controls",
            "_model_module_version": "1.5.0",
            "_model_name": "ProgressStyleModel",
            "_view_count": null,
            "_view_module": "@jupyter-widgets/base",
            "_view_module_version": "1.2.0",
            "_view_name": "StyleView",
            "bar_color": null,
            "description_width": ""
          }
        },
        "f3b462a088984beaa5876937a8d7cb47": {
          "model_module": "@jupyter-widgets/controls",
          "model_module_version": "1.5.0",
          "model_name": "HBoxModel",
          "state": {
            "_dom_classes": [],
            "_model_module": "@jupyter-widgets/controls",
            "_model_module_version": "1.5.0",
            "_model_name": "HBoxModel",
            "_view_count": null,
            "_view_module": "@jupyter-widgets/controls",
            "_view_module_version": "1.5.0",
            "_view_name": "HBoxView",
            "box_style": "",
            "children": [
              "IPY_MODEL_b0a3ab8e545c490a96bcf53e39175633",
              "IPY_MODEL_ff07cb58fd4447ea8c337e4f2235d12c",
              "IPY_MODEL_babdfc90a790499e91e36ff629e9a653"
            ],
            "layout": "IPY_MODEL_65c848f6726047dfb8d973da62adca10"
          }
        },
        "f8948bfcf17f44a1be19c0b3ccd3a6fc": {
          "model_module": "@jupyter-widgets/controls",
          "model_module_version": "1.5.0",
          "model_name": "FloatProgressModel",
          "state": {
            "_dom_classes": [],
            "_model_module": "@jupyter-widgets/controls",
            "_model_module_version": "1.5.0",
            "_model_name": "FloatProgressModel",
            "_view_count": null,
            "_view_module": "@jupyter-widgets/controls",
            "_view_module_version": "1.5.0",
            "_view_name": "ProgressView",
            "bar_style": "success",
            "description": "",
            "description_tooltip": null,
            "layout": "IPY_MODEL_8b0f54c3cc804fabbcfbdf5317ab90d9",
            "max": 665,
            "min": 0,
            "orientation": "horizontal",
            "style": "IPY_MODEL_e67ff65a5a6a42b596ad027b8c6060a0",
            "value": 665
          }
        },
        "ff07cb58fd4447ea8c337e4f2235d12c": {
          "model_module": "@jupyter-widgets/controls",
          "model_module_version": "1.5.0",
          "model_name": "FloatProgressModel",
          "state": {
            "_dom_classes": [],
            "_model_module": "@jupyter-widgets/controls",
            "_model_module_version": "1.5.0",
            "_model_name": "FloatProgressModel",
            "_view_count": null,
            "_view_module": "@jupyter-widgets/controls",
            "_view_module_version": "1.5.0",
            "_view_name": "ProgressView",
            "bar_style": "success",
            "description": "",
            "description_tooltip": null,
            "layout": "IPY_MODEL_b1b8a6f3dd4142d8853e569a67b7c1a4",
            "max": 1042301,
            "min": 0,
            "orientation": "horizontal",
            "style": "IPY_MODEL_054cbc88f9ef422ba3440cdbd020ec05",
            "value": 1042301
          }
        },
        "ffc1a962aeb3424ebb653f7832f88393": {
          "model_module": "@jupyter-widgets/controls",
          "model_module_version": "1.5.0",
          "model_name": "DescriptionStyleModel",
          "state": {
            "_model_module": "@jupyter-widgets/controls",
            "_model_module_version": "1.5.0",
            "_model_name": "DescriptionStyleModel",
            "_view_count": null,
            "_view_module": "@jupyter-widgets/base",
            "_view_module_version": "1.2.0",
            "_view_name": "StyleView",
            "description_width": ""
          }
        }
      }
    }
  },
  "nbformat": 4,
  "nbformat_minor": 0
}
