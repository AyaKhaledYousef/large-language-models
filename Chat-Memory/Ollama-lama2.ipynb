{
 "cells": [
  {
   "cell_type": "code",
   "execution_count": 1,
   "metadata": {},
   "outputs": [],
   "source": [
    "from langchain.llms import Ollama\n",
    "llm = Ollama(model=\"llama2\", temperature=0)\n"
   ]
  },
  {
   "cell_type": "code",
   "execution_count": 2,
   "metadata": {},
   "outputs": [
    {
     "name": "stderr",
     "output_type": "stream",
     "text": [
      "/home/ubuntu/anaconda3/envs/llm/lib/python3.10/site-packages/torch/cuda/__init__.py:628: UserWarning: Can't initialize NVML\n",
      "  warnings.warn(\"Can't initialize NVML\")\n"
     ]
    }
   ],
   "source": [
    "from transformers import AutoTokenizer, pipeline, logging\n",
    "from auto_gptq import AutoGPTQForCausalLM, BaseQuantizeConfig\n",
    "import argparse\n",
    "from langchain import LLMChain\n",
    "from langchain.prompts.prompt import PromptTemplate\n",
    "from langchain.memory import ConversationBufferMemory\n",
    "from langchain.llms import HuggingFacePipeline"
   ]
  },
  {
   "cell_type": "code",
   "execution_count": 3,
   "metadata": {},
   "outputs": [],
   "source": [
    "template = \"\"\"\n",
    "[INST] <<SYS>>\n",
    "You are a helpful, respectful and honest assistant. Always answer as helpfully as possible, while being safe.  Your answers should not include any harmful, unethical, racist, sexist, toxic, dangerous, or illegal content. Please ensure that your responses are socially unbiased and positive in nature. If a question does not make any sense, or is not factually coherent, explain why instead of answering something not correct. If you don't know the answer to a question, please don't share false information.\n",
    "<</SYS>>\n",
    "here is the chat history\n",
    "{chat_history}\n",
    "\n",
    "{prompt} [/INST]\n",
    "\"\"\"\n",
    "\n",
    "prompt = PromptTemplate(\n",
    "    input_variables=[\"chat_history\", \"prompt\"],\n",
    "    template=template)"
   ]
  },
  {
   "cell_type": "code",
   "execution_count": 4,
   "metadata": {},
   "outputs": [],
   "source": [
    "memory = ConversationBufferMemory(memory_key=\"chat_history\",    k=3,\n",
    "    return_messages=True)"
   ]
  },
  {
   "cell_type": "code",
   "execution_count": 5,
   "metadata": {},
   "outputs": [],
   "source": [
    "llm_chain = LLMChain(llm=llm, prompt=prompt, verbose=False,  memory=memory)\n"
   ]
  },
  {
   "cell_type": "code",
   "execution_count": 6,
   "metadata": {},
   "outputs": [
    {
     "name": "stdout",
     "output_type": "stream",
     "text": [
      " Hello! I'm here to help you with any questions or concerns you may have. Please feel free to ask me anything, and I will do my best to provide helpful and responsible responses. Is there something specific you would like to know or discuss?\n"
     ]
    }
   ],
   "source": [
    "output=llm_chain.predict(prompt=\"Hello\")\n",
    "print(output.split(\"[/INST]\")[-1])"
   ]
  },
  {
   "cell_type": "code",
   "execution_count": 7,
   "metadata": {},
   "outputs": [],
   "source": [
    "def predict(inputs, history):\n",
    "\n",
    "  response = llm_chain.predict(prompt=inputs)\n",
    "  print(response.split(\"[/INST]\")[-1])\n",
    "  return response.split(\"[/INST]\")[-1]"
   ]
  },
  {
   "cell_type": "code",
   "execution_count": 8,
   "metadata": {},
   "outputs": [
    {
     "name": "stdout",
     "output_type": "stream",
     "text": [
      "Running on local URL:  http://127.0.0.1:7860\n",
      "Running on public URL: https://bbe979bb5ed5ddca08.gradio.live\n",
      "\n",
      "This share link expires in 72 hours. For free permanent hosting and GPU upgrades, run `gradio deploy` from Terminal to deploy to Spaces (https://huggingface.co/spaces)\n"
     ]
    },
    {
     "data": {
      "text/html": [
       "<div><iframe src=\"https://bbe979bb5ed5ddca08.gradio.live\" width=\"100%\" height=\"500\" allow=\"autoplay; camera; microphone; clipboard-read; clipboard-write;\" frameborder=\"0\" allowfullscreen></iframe></div>"
      ],
      "text/plain": [
       "<IPython.core.display.HTML object>"
      ]
     },
     "metadata": {},
     "output_type": "display_data"
    },
    {
     "name": "stdout",
     "output_type": "stream",
     "text": [
      "Hello! It's great to hear from you. I'm here to help you with any questions or concerns you may have, while ensuring that my responses are safe and respectful. Please feel free to ask me anything, and I will do my best to provide helpful and responsible answers. Is there something specific you would like to know or discuss?\n",
      "Hello! It's great to hear from you again. I'm here to help you with any questions or concerns you may have, while ensuring that my responses are safe and respectful. Please feel free to ask me anything, and I will do my best to provide helpful and responsible answers. Is there something specific you would like to know or discuss?\n",
      "Hello! I'm here to help you with any questions or concerns you may have about starting a new business. It's great that you're interested in pursuing this venture, and I'm happy to provide helpful and responsible responses.\n",
      "\n",
      "To start, can you tell me a bit more about your business idea? What products or services will you offer, and what makes your business unique? Understanding the details of your business will help me provide more tailored advice on how to get started.\n",
      "\n",
      "Additionally, have you considered your target market and competition? Knowing who your ideal customer is and how your business will stand out in the market can be crucial in developing a successful business plan.\n",
      "\n",
      "Please feel free to ask me anything, and I'll do my best to provide helpful and responsible responses. Let's work together to make your new business a success!\n",
      "I apologize if my responses seemed unnecessary or excessive. My primary goal is to assist and provide helpful information while ensuring safety and respect. To achieve this, I sometimes provide more detailed answers than necessary, especially when the question is open-ended or requires additional context. This helps to clarify any potential misunderstandings and provides a more accurate response.\n",
      "\n",
      "In your case, when you asked how to start a new business, I provided a comprehensive answer that covered various aspects of starting a business, such as understanding your target market, developing a unique value proposition, and creating a business plan. While it may seem like excessive text, my intention was to provide a well-rounded response that would help you make an informed decision about your business venture.\n",
      "\n",
      "However, I understand that sometimes less is more, and I will strive to provide more concise answers in the future while still maintaining safety and respect. Please feel free to ask me any questions or seek further clarification on any topic.\n",
      "Great! Starting a restaurant can be a challenging but rewarding venture. Here are some key things to consider when starting a restaurant:\n",
      "\n",
      "1. Concept and Business Plan: Define your restaurant's concept, target market, and business goals. Create a comprehensive business plan that outlines your strategy, financial projections, and operational plans.\n",
      "2. Location: Choose a location that is easily accessible to your target market and compliant with local zoning laws. Consider factors such as foot traffic, competition, and parking availability.\n",
      "3. Menu Development: Develop a menu that is appealing to your target market and priced appropriately. Consider sourcing high-quality ingredients and offering vegetarian or gluten-free options.\n",
      "4. Licenses and Permits: Obtain all necessary licenses and permits from your local government, such as a food service permit, alcohol license (if applicable), and business license.\n",
      "5. Equipment and Supplies: Purchase or lease equipment and supplies, such as commercial-grade appliances, utensils, and linens. Consider renting or buying used equipment to save on costs.\n",
      "6. Staffing: Hire experienced staff, including chefs, servers, bartenders, and management. Provide thorough training on your restaurant's policies, menu, and service standards.\n",
      "7. Marketing and Advertising: Develop a marketing plan that includes advertising, social media promotion, and public relations. Consider partnering with local businesses or organizations to cross-promote each other's products or services.\n",
      "8. Financial Planning: Create a financial plan that includes projected income and expenses, as well as a contingency fund for unexpected costs. Consider seeking financing from investors or lenders to help cover startup costs.\n",
      "9. Health and Safety: Ensure that your restaurant meets all health and safety regulations, such as proper food handling and storage, and adequate sanitation practices.\n",
      "10. Grand Opening: Plan a grand opening event to attract customers and generate buzz about your new restaurant. Consider offering special promotions or discounts during the opening period.\n",
      "\n",
      "Remember, starting a restaurant requires careful planning, attention to detail, and a commitment to quality and safety. By following these steps and staying focused on your goals, you can build a successful and profitable restaurant.\n"
     ]
    }
   ],
   "source": [
    "import gradio as gr\n",
    "\n",
    "demo = gr.ChatInterface(fn=predict, title=\"Echo Bot\")\n",
    "demo.launch(share=True,debug = True)"
   ]
  },
  {
   "cell_type": "code",
   "execution_count": null,
   "metadata": {},
   "outputs": [],
   "source": []
  }
 ],
 "metadata": {
  "kernelspec": {
   "display_name": "llm",
   "language": "python",
   "name": "python3"
  },
  "language_info": {
   "codemirror_mode": {
    "name": "ipython",
    "version": 3
   },
   "file_extension": ".py",
   "mimetype": "text/x-python",
   "name": "python",
   "nbconvert_exporter": "python",
   "pygments_lexer": "ipython3",
   "version": "3.10.0"
  }
 },
 "nbformat": 4,
 "nbformat_minor": 2
}
